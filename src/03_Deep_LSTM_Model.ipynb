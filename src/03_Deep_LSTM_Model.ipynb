{
 "cells": [
  {
   "cell_type": "code",
   "execution_count": 1,
   "metadata": {},
   "outputs": [],
   "source": [
    "import json\n",
    "\n",
    "import numpy as np\n",
    "import pandas as pd\n",
    "from sklearn.preprocessing import LabelEncoder\n",
    "from sklearn.model_selection import train_test_split\n",
    "\n",
    "import tensorflow as tf\n",
    "from tensorflow.data import Dataset, AUTOTUNE\n",
    "from tensorflow.keras.layers import TextVectorization, Dense, LeakyReLU, Bidirectional, LSTM, Dropout, Embedding\n",
    "from tensorflow.keras.optimizers import Adam"
   ]
  },
  {
   "cell_type": "code",
   "execution_count": 40,
   "metadata": {},
   "outputs": [
    {
     "data": {
      "text/plain": [
       "[PhysicalDevice(name='/physical_device:GPU:0', device_type='GPU')]"
      ]
     },
     "execution_count": 40,
     "metadata": {},
     "output_type": "execute_result"
    }
   ],
   "source": [
    "with open(\"configs.json\", \"r\") as config_file:\n",
    "    configs = json.load(config_file)\n",
    "\n",
    "RANDOM_STATE = configs[\"RANDOM_STATE\"]\n",
    "model_configs = configs['MODELS']['DEEP_LSTM']\n",
    "\n",
    "tf.config.list_physical_devices('GPU')"
   ]
  },
  {
   "cell_type": "code",
   "execution_count": 3,
   "metadata": {},
   "outputs": [
    {
     "data": {
      "text/html": [
       "<div>\n",
       "<style scoped>\n",
       "    .dataframe tbody tr th:only-of-type {\n",
       "        vertical-align: middle;\n",
       "    }\n",
       "\n",
       "    .dataframe tbody tr th {\n",
       "        vertical-align: top;\n",
       "    }\n",
       "\n",
       "    .dataframe thead th {\n",
       "        text-align: right;\n",
       "    }\n",
       "</style>\n",
       "<table border=\"1\" class=\"dataframe\">\n",
       "  <thead>\n",
       "    <tr style=\"text-align: right;\">\n",
       "      <th></th>\n",
       "      <th>sample_path</th>\n",
       "      <th>content</th>\n",
       "      <th>extension</th>\n",
       "      <th>content_len</th>\n",
       "      <th>Ratio space</th>\n",
       "      <th>Ratio NL</th>\n",
       "      <th>Ratio tab</th>\n",
       "      <th>Ratio _</th>\n",
       "      <th>Ratio #</th>\n",
       "      <th>Ratio :</th>\n",
       "      <th>...</th>\n",
       "      <th>Ratio |</th>\n",
       "      <th>Ratio &amp;&amp;</th>\n",
       "      <th>Ratio ||</th>\n",
       "      <th>Ratio ^</th>\n",
       "      <th>Ratio (</th>\n",
       "      <th>Ratio )</th>\n",
       "      <th>Ratio {</th>\n",
       "      <th>Ratio }</th>\n",
       "      <th>Ratio [</th>\n",
       "      <th>Ratio ]</th>\n",
       "    </tr>\n",
       "  </thead>\n",
       "  <tbody>\n",
       "    <tr>\n",
       "      <th>276</th>\n",
       "      <td>UnityAssets/Textures/AA_on.png.meta</td>\n",
       "      <td>fileFormatVersion: 2\\nguid: 8359ffa9c0b0417459...</td>\n",
       "      <td>meta</td>\n",
       "      <td>1209</td>\n",
       "      <td>0.162945</td>\n",
       "      <td>0.046319</td>\n",
       "      <td>0.000000</td>\n",
       "      <td>0.000000</td>\n",
       "      <td>0.000000</td>\n",
       "      <td>0.051282</td>\n",
       "      <td>...</td>\n",
       "      <td>0.000000</td>\n",
       "      <td>0.0</td>\n",
       "      <td>0.000000</td>\n",
       "      <td>0.000000</td>\n",
       "      <td>0.000000</td>\n",
       "      <td>0.000000</td>\n",
       "      <td>0.002481</td>\n",
       "      <td>0.002481</td>\n",
       "      <td>0.001654</td>\n",
       "      <td>0.001654</td>\n",
       "    </tr>\n",
       "    <tr>\n",
       "      <th>297335</th>\n",
       "      <td>repository/Topez-Server-Core.package/TDAbstrac...</td>\n",
       "      <td>as yet unclassified\\nlookupMethodInCompact: me...</td>\n",
       "      <td>st</td>\n",
       "      <td>898</td>\n",
       "      <td>0.219376</td>\n",
       "      <td>0.026726</td>\n",
       "      <td>0.000000</td>\n",
       "      <td>0.000000</td>\n",
       "      <td>0.000000</td>\n",
       "      <td>0.031180</td>\n",
       "      <td>...</td>\n",
       "      <td>0.002227</td>\n",
       "      <td>0.0</td>\n",
       "      <td>0.000000</td>\n",
       "      <td>0.003341</td>\n",
       "      <td>0.014477</td>\n",
       "      <td>0.012249</td>\n",
       "      <td>0.000000</td>\n",
       "      <td>0.000000</td>\n",
       "      <td>0.007795</td>\n",
       "      <td>0.007795</td>\n",
       "    </tr>\n",
       "    <tr>\n",
       "      <th>168724</th>\n",
       "      <td>server/static/blockly-games/js-read-only/goog/...</td>\n",
       "      <td>// Copyright 2008 The Closure Library Authors....</td>\n",
       "      <td>svn-base</td>\n",
       "      <td>2429</td>\n",
       "      <td>0.147386</td>\n",
       "      <td>0.035406</td>\n",
       "      <td>0.000000</td>\n",
       "      <td>0.004940</td>\n",
       "      <td>0.000000</td>\n",
       "      <td>0.000823</td>\n",
       "      <td>...</td>\n",
       "      <td>0.001235</td>\n",
       "      <td>0.0</td>\n",
       "      <td>0.000412</td>\n",
       "      <td>0.000000</td>\n",
       "      <td>0.005352</td>\n",
       "      <td>0.005352</td>\n",
       "      <td>0.004940</td>\n",
       "      <td>0.004940</td>\n",
       "      <td>0.000000</td>\n",
       "      <td>0.000000</td>\n",
       "    </tr>\n",
       "    <tr>\n",
       "      <th>371604</th>\n",
       "      <td>CoreAudio/AudioUnits/AUPublic/AUCarbonViewBase...</td>\n",
       "      <td>/*\\tCopyright © 2007 Apple Inc. All Rights Res...</td>\n",
       "      <td>cpp</td>\n",
       "      <td>4096</td>\n",
       "      <td>0.103271</td>\n",
       "      <td>0.022461</td>\n",
       "      <td>0.039307</td>\n",
       "      <td>0.000977</td>\n",
       "      <td>0.001465</td>\n",
       "      <td>0.002686</td>\n",
       "      <td>...</td>\n",
       "      <td>0.000977</td>\n",
       "      <td>0.0</td>\n",
       "      <td>0.000488</td>\n",
       "      <td>0.000000</td>\n",
       "      <td>0.007324</td>\n",
       "      <td>0.007324</td>\n",
       "      <td>0.003174</td>\n",
       "      <td>0.002686</td>\n",
       "      <td>0.000732</td>\n",
       "      <td>0.000732</td>\n",
       "    </tr>\n",
       "    <tr>\n",
       "      <th>96274</th>\n",
       "      <td>src/main/resources/db/migration/sqlserver/V1.0...</td>\n",
       "      <td>ALTER TABLE [${ohdsiSchema}].[feasibility_stud...</td>\n",
       "      <td>sql</td>\n",
       "      <td>1528</td>\n",
       "      <td>0.147906</td>\n",
       "      <td>0.020942</td>\n",
       "      <td>0.000000</td>\n",
       "      <td>0.056937</td>\n",
       "      <td>0.000000</td>\n",
       "      <td>0.000000</td>\n",
       "      <td>...</td>\n",
       "      <td>0.000000</td>\n",
       "      <td>0.0</td>\n",
       "      <td>0.000000</td>\n",
       "      <td>0.000000</td>\n",
       "      <td>0.003272</td>\n",
       "      <td>0.003272</td>\n",
       "      <td>0.006545</td>\n",
       "      <td>0.006545</td>\n",
       "      <td>0.030105</td>\n",
       "      <td>0.030105</td>\n",
       "    </tr>\n",
       "    <tr>\n",
       "      <th>370286</th>\n",
       "      <td>src/DoubleBuffer.cpp</td>\n",
       "      <td>/* Copyright (C) 2013 Webyog Inc\\r\\n\\r\\n   Thi...</td>\n",
       "      <td>cpp</td>\n",
       "      <td>4096</td>\n",
       "      <td>0.128418</td>\n",
       "      <td>0.040283</td>\n",
       "      <td>0.014648</td>\n",
       "      <td>0.015625</td>\n",
       "      <td>0.000244</td>\n",
       "      <td>0.006348</td>\n",
       "      <td>...</td>\n",
       "      <td>0.000000</td>\n",
       "      <td>0.0</td>\n",
       "      <td>0.000000</td>\n",
       "      <td>0.000000</td>\n",
       "      <td>0.010986</td>\n",
       "      <td>0.010742</td>\n",
       "      <td>0.004883</td>\n",
       "      <td>0.004395</td>\n",
       "      <td>0.000244</td>\n",
       "      <td>0.000244</td>\n",
       "    </tr>\n",
       "    <tr>\n",
       "      <th>308541</th>\n",
       "      <td>mysql-test/suite/sys_vars/t/gap_lock_write_log...</td>\n",
       "      <td>--source include/have_innodb.inc\\n--source inc...</td>\n",
       "      <td>test</td>\n",
       "      <td>2292</td>\n",
       "      <td>0.055846</td>\n",
       "      <td>0.034031</td>\n",
       "      <td>0.000000</td>\n",
       "      <td>0.086387</td>\n",
       "      <td>0.000000</td>\n",
       "      <td>0.000000</td>\n",
       "      <td>...</td>\n",
       "      <td>0.000000</td>\n",
       "      <td>0.0</td>\n",
       "      <td>0.000000</td>\n",
       "      <td>0.000000</td>\n",
       "      <td>0.000436</td>\n",
       "      <td>0.000436</td>\n",
       "      <td>0.000000</td>\n",
       "      <td>0.000000</td>\n",
       "      <td>0.000000</td>\n",
       "      <td>0.000000</td>\n",
       "    </tr>\n",
       "    <tr>\n",
       "      <th>56938</th>\n",
       "      <td>tools/ZoeeyDoc/docs/books/zoeeydoc/xsl/wiki/wi...</td>\n",
       "      <td>&lt;?xml version=\"1.0\" encoding=\"UTF-8\"?&gt;\\n\\n&lt;!--...</td>\n",
       "      <td>xsl</td>\n",
       "      <td>1115</td>\n",
       "      <td>0.139910</td>\n",
       "      <td>0.026009</td>\n",
       "      <td>0.000000</td>\n",
       "      <td>0.000000</td>\n",
       "      <td>0.000000</td>\n",
       "      <td>0.007175</td>\n",
       "      <td>...</td>\n",
       "      <td>0.000000</td>\n",
       "      <td>0.0</td>\n",
       "      <td>0.000000</td>\n",
       "      <td>0.000000</td>\n",
       "      <td>0.001794</td>\n",
       "      <td>0.001794</td>\n",
       "      <td>0.000000</td>\n",
       "      <td>0.000000</td>\n",
       "      <td>0.000000</td>\n",
       "      <td>0.000000</td>\n",
       "    </tr>\n",
       "    <tr>\n",
       "      <th>42554</th>\n",
       "      <td>target/linux/ramips/dts/W306R_V20.dts</td>\n",
       "      <td>/dts-v1/;\\n\\n/include/ \"rt3050.dtsi\"\\n\\n/ {\\n\\...</td>\n",
       "      <td>dts</td>\n",
       "      <td>1380</td>\n",
       "      <td>0.077536</td>\n",
       "      <td>0.062319</td>\n",
       "      <td>0.104348</td>\n",
       "      <td>0.001449</td>\n",
       "      <td>0.002899</td>\n",
       "      <td>0.004348</td>\n",
       "      <td>...</td>\n",
       "      <td>0.000000</td>\n",
       "      <td>0.0</td>\n",
       "      <td>0.000000</td>\n",
       "      <td>0.000000</td>\n",
       "      <td>0.000000</td>\n",
       "      <td>0.000000</td>\n",
       "      <td>0.012319</td>\n",
       "      <td>0.012319</td>\n",
       "      <td>0.000000</td>\n",
       "      <td>0.000000</td>\n",
       "    </tr>\n",
       "    <tr>\n",
       "      <th>295208</th>\n",
       "      <td>node_modules/zombie/node_modules/ws/build/Rele...</td>\n",
       "      <td>cmd_Release/obj.target/validation/src/validati...</td>\n",
       "      <td>d</td>\n",
       "      <td>2090</td>\n",
       "      <td>0.030144</td>\n",
       "      <td>0.011005</td>\n",
       "      <td>0.000000</td>\n",
       "      <td>0.013876</td>\n",
       "      <td>0.000000</td>\n",
       "      <td>0.006220</td>\n",
       "      <td>...</td>\n",
       "      <td>0.000000</td>\n",
       "      <td>0.0</td>\n",
       "      <td>0.000000</td>\n",
       "      <td>0.000000</td>\n",
       "      <td>0.000000</td>\n",
       "      <td>0.000000</td>\n",
       "      <td>0.000000</td>\n",
       "      <td>0.000000</td>\n",
       "      <td>0.000000</td>\n",
       "      <td>0.000000</td>\n",
       "    </tr>\n",
       "  </tbody>\n",
       "</table>\n",
       "<p>10 rows × 61 columns</p>\n",
       "</div>"
      ],
      "text/plain": [
       "                                              sample_path  \\\n",
       "276                   UnityAssets/Textures/AA_on.png.meta   \n",
       "297335  repository/Topez-Server-Core.package/TDAbstrac...   \n",
       "168724  server/static/blockly-games/js-read-only/goog/...   \n",
       "371604  CoreAudio/AudioUnits/AUPublic/AUCarbonViewBase...   \n",
       "96274   src/main/resources/db/migration/sqlserver/V1.0...   \n",
       "370286                               src/DoubleBuffer.cpp   \n",
       "308541  mysql-test/suite/sys_vars/t/gap_lock_write_log...   \n",
       "56938   tools/ZoeeyDoc/docs/books/zoeeydoc/xsl/wiki/wi...   \n",
       "42554               target/linux/ramips/dts/W306R_V20.dts   \n",
       "295208  node_modules/zombie/node_modules/ws/build/Rele...   \n",
       "\n",
       "                                                  content extension  \\\n",
       "276     fileFormatVersion: 2\\nguid: 8359ffa9c0b0417459...      meta   \n",
       "297335  as yet unclassified\\nlookupMethodInCompact: me...        st   \n",
       "168724  // Copyright 2008 The Closure Library Authors....  svn-base   \n",
       "371604  /*\\tCopyright © 2007 Apple Inc. All Rights Res...       cpp   \n",
       "96274   ALTER TABLE [${ohdsiSchema}].[feasibility_stud...       sql   \n",
       "370286  /* Copyright (C) 2013 Webyog Inc\\r\\n\\r\\n   Thi...       cpp   \n",
       "308541  --source include/have_innodb.inc\\n--source inc...      test   \n",
       "56938   <?xml version=\"1.0\" encoding=\"UTF-8\"?>\\n\\n<!--...       xsl   \n",
       "42554   /dts-v1/;\\n\\n/include/ \"rt3050.dtsi\"\\n\\n/ {\\n\\...       dts   \n",
       "295208  cmd_Release/obj.target/validation/src/validati...         d   \n",
       "\n",
       "        content_len  Ratio space  Ratio NL  Ratio tab   Ratio _   Ratio #  \\\n",
       "276            1209     0.162945  0.046319   0.000000  0.000000  0.000000   \n",
       "297335          898     0.219376  0.026726   0.000000  0.000000  0.000000   \n",
       "168724         2429     0.147386  0.035406   0.000000  0.004940  0.000000   \n",
       "371604         4096     0.103271  0.022461   0.039307  0.000977  0.001465   \n",
       "96274          1528     0.147906  0.020942   0.000000  0.056937  0.000000   \n",
       "370286         4096     0.128418  0.040283   0.014648  0.015625  0.000244   \n",
       "308541         2292     0.055846  0.034031   0.000000  0.086387  0.000000   \n",
       "56938          1115     0.139910  0.026009   0.000000  0.000000  0.000000   \n",
       "42554          1380     0.077536  0.062319   0.104348  0.001449  0.002899   \n",
       "295208         2090     0.030144  0.011005   0.000000  0.013876  0.000000   \n",
       "\n",
       "         Ratio :  ...   Ratio |  Ratio &&  Ratio ||   Ratio ^   Ratio (  \\\n",
       "276     0.051282  ...  0.000000       0.0  0.000000  0.000000  0.000000   \n",
       "297335  0.031180  ...  0.002227       0.0  0.000000  0.003341  0.014477   \n",
       "168724  0.000823  ...  0.001235       0.0  0.000412  0.000000  0.005352   \n",
       "371604  0.002686  ...  0.000977       0.0  0.000488  0.000000  0.007324   \n",
       "96274   0.000000  ...  0.000000       0.0  0.000000  0.000000  0.003272   \n",
       "370286  0.006348  ...  0.000000       0.0  0.000000  0.000000  0.010986   \n",
       "308541  0.000000  ...  0.000000       0.0  0.000000  0.000000  0.000436   \n",
       "56938   0.007175  ...  0.000000       0.0  0.000000  0.000000  0.001794   \n",
       "42554   0.004348  ...  0.000000       0.0  0.000000  0.000000  0.000000   \n",
       "295208  0.006220  ...  0.000000       0.0  0.000000  0.000000  0.000000   \n",
       "\n",
       "         Ratio )   Ratio {   Ratio }   Ratio [   Ratio ]  \n",
       "276     0.000000  0.002481  0.002481  0.001654  0.001654  \n",
       "297335  0.012249  0.000000  0.000000  0.007795  0.007795  \n",
       "168724  0.005352  0.004940  0.004940  0.000000  0.000000  \n",
       "371604  0.007324  0.003174  0.002686  0.000732  0.000732  \n",
       "96274   0.003272  0.006545  0.006545  0.030105  0.030105  \n",
       "370286  0.010742  0.004883  0.004395  0.000244  0.000244  \n",
       "308541  0.000436  0.000000  0.000000  0.000000  0.000000  \n",
       "56938   0.001794  0.000000  0.000000  0.000000  0.000000  \n",
       "42554   0.000000  0.012319  0.012319  0.000000  0.000000  \n",
       "295208  0.000000  0.000000  0.000000  0.000000  0.000000  \n",
       "\n",
       "[10 rows x 61 columns]"
      ]
     },
     "execution_count": 3,
     "metadata": {},
     "output_type": "execute_result"
    }
   ],
   "source": [
    "filecontent_df = pd.read_csv(f\"{configs['OUTPUTS_BASE_PATH']}processed_filecontent.csv\")\n",
    "filecontent_df.sample(10)"
   ]
  },
  {
   "cell_type": "code",
   "execution_count": 4,
   "metadata": {},
   "outputs": [
    {
     "data": {
      "text/plain": [
       "((349208, 61), (38801, 61))"
      ]
     },
     "execution_count": 4,
     "metadata": {},
     "output_type": "execute_result"
    }
   ],
   "source": [
    "train_df, val_df = train_test_split(\n",
    "    filecontent_df.copy(), \n",
    "    test_size = configs[\"VAL_SIZE\"], \n",
    "    stratify = filecontent_df[\"extension\"], \n",
    "    random_state = RANDOM_STATE\n",
    ")\n",
    "train_df.shape, val_df.shape"
   ]
  },
  {
   "cell_type": "code",
   "execution_count": 5,
   "metadata": {},
   "outputs": [
    {
     "data": {
      "text/plain": [
       "147"
      ]
     },
     "execution_count": 5,
     "metadata": {},
     "output_type": "execute_result"
    }
   ],
   "source": [
    "label_encoder = LabelEncoder()\n",
    "train_df[\"ext_encoded\"] = label_encoder.fit_transform(train_df[\"extension\"])\n",
    "val_df[\"ext_encoded\"] = label_encoder.transform(val_df[\"extension\"])\n",
    "len(label_encoder.classes_)"
   ]
  },
  {
   "cell_type": "code",
   "execution_count": 6,
   "metadata": {},
   "outputs": [
    {
     "data": {
      "text/plain": [
       "<PrefetchDataset shapes: ((None,), (None,)), types: (tf.string, tf.int32)>"
      ]
     },
     "execution_count": 6,
     "metadata": {},
     "output_type": "execute_result"
    }
   ],
   "source": [
    "train_dataset = Dataset.from_tensor_slices((train_df[\"content\"], train_df[\"ext_encoded\"]))\n",
    "train_dataset = train_dataset.shuffle(model_configs['BUFFER_SIZE']).batch(model_configs['BATCH_SIZE']).prefetch(AUTOTUNE)\n",
    "train_dataset"
   ]
  },
  {
   "cell_type": "code",
   "execution_count": 7,
   "metadata": {},
   "outputs": [
    {
     "data": {
      "text/plain": [
       "<PrefetchDataset shapes: ((None,), (None,)), types: (tf.string, tf.int32)>"
      ]
     },
     "execution_count": 7,
     "metadata": {},
     "output_type": "execute_result"
    }
   ],
   "source": [
    "val_dataset = Dataset.from_tensor_slices((val_df[\"content\"], val_df[\"ext_encoded\"]))\n",
    "val_dataset = val_dataset.shuffle(model_configs['BUFFER_SIZE']).batch(model_configs['BATCH_SIZE']).prefetch(AUTOTUNE)\n",
    "val_dataset"
   ]
  },
  {
   "cell_type": "code",
   "execution_count": 8,
   "metadata": {},
   "outputs": [
    {
     "name": "stdout",
     "output_type": "stream",
     "text": [
      "Text:\n",
      " b'/*---------------------------------------------------------------------------*\\\\\\n  =========                 |\\n  \\\\\\\\      /  F ield         | OpenFOAM: The Open Source CFD Toolbox\\n   \\\\\\\\    /   O peration     |\\n    \\\\\\\\  /    A nd           | Copyright (C) 2011-2013 OpenFOAM Foundation\\n     \\\\\\\\/     M anipulation  |\\n-------------------------------------------------------------------------------\\nLicense\\n    This file is part of OpenFOAM.\\n\\n    OpenFOAM is free software: you can redistribute it and/or modify it\\n    under the terms of the GNU General Public License as published by\\n    the Free Software Foundation, either version 3 of the License, or\\n    (at your option) any later version.\\n\\n    OpenFOAM is distributed in the hope that it will be useful, but WITHOUT\\n    ANY WARRANTY; without even the implied warranty of MERCHANTABILITY or\\n    FITNESS FOR A PARTICULAR PURPOSE.  See the GNU General Public License\\n    for more details.\\n\\n    You should have received a copy of the GNU General Public License\\n    along with OpenFOAM.  If not, see <http://www.gnu.org/licenses/>.\\n\\nClass\\n    Foam::diameterModel\\n\\nDescription\\n    Abstract base-class for dispersed-phase particle diameter models.\\n\\nSourceFiles\\n    diameterModel.C\\n    newDiameterModel.C\\n\\n\\\\*---------------------------------------------------------------------------*/\\n\\n#ifndef diameterModel_H\\n#define diameterModel_H\\n\\n// * * * * * * * * * * * * * * * * * * * * * * * * * * * * * * * * * * * * * //\\n\\n#include \"dictionary.H\"\\n#include \"phaseModel.H\"\\n#include \"runTimeSelectionTables.H\"\\n\\nnamespace Foam\\n{\\n\\n/*---------------------------------------------------------------------------*\\\\\\n                           Class diameterModel Declaration\\n\\\\*---------------------------------------------------------------------------*/\\n\\nclass diameterModel\\n{\\nprotected:\\n\\n    // Protected data\\n\\n        const dictionary& dict_;\\n        const phaseModel& phase_;\\n\\n\\npublic:\\n\\n    //- Runtime type information\\n    TypeName(\"diameterModel\");\\n\\n\\n    // Declare runtime construction\\n\\n        declareRunTimeSelectionTable\\n        (\\n            autoPtr,\\n            diameterModel,\\n            dictionary,\\n            (\\n                const dictionary& dict,\\n                const phaseModel& phase\\n            ),\\n            (dict, phase)\\n        );\\n\\n\\n    // Constructors\\n\\n        diameterModel\\n        (\\n            const dictionary& dict,\\n            const phaseModel& phase\\n        );\\n\\n\\n    //- Destructor\\n    virtual ~diameterModel();\\n\\n\\n    // Selectors\\n\\n        static autoPtr<diameterModel> New\\n        (\\n            const dictionary& dict,\\n            const phaseModel& phase\\n        );\\n\\n\\n    // Member Functions\\n\\n        //- Return the phase mean diameter field\\n        virtual tmp<volScalarField> d() const = 0;\\n};\\n\\n\\n// * * * * * * * * * * * * * * * * * * * * * * * * * * * * * * * * * * * * * //\\n\\n} // End namespace Foam\\n\\n// * * * * * * * * * * * * * * * * * * * * * * * * * * * * * * * * * * * * * //\\n\\n#endif\\n\\n// ************************************************************************* //\\n'\n",
      "\n",
      "Label: 1 - H\n",
      "--------------------------------------------------------------------------------------------------------------------------------\n",
      "Text:\n",
      " b'diff --git a/spec/multi_json_spec.rb b/spec/multi_json_spec.rb\\nindex 2df3350..9d2a376 100644\\n--- a/spec/multi_json_spec.rb\\n+++ b/spec/multi_json_spec.rb\\n@@ -13,13 +13,17 @@ end\\n describe \"MultiJson\" do\\n   context \\'engines\\' do\\n     it \\'should default to the best available gem\\' do\\n+      begin\\n       require \\'yajl\\'\\n       MultiJson.engine.name.should == \\'MultiJson::Engines::Yajl\\'\\n+      rescue LoadError\\n+        pending \"YAJL (or a dependency) not available.\"\\n+      end\\n     end\\n \\n     it \\'should be settable via a symbol\\' do\\n-      MultiJson.engine = :yajl\\n-      MultiJson.engine.name.should == \\'MultiJson::Engines::Yajl\\'\\n+      MultiJson.engine = :json_pure\\n+      MultiJson.engine.name.should == \\'MultiJson::Engines::JsonPure\\'\\n     end\\n     \\n     it \\'should be settable via a class\\' do\\n'\n",
      "\n",
      "Label: 89 - patch\n",
      "--------------------------------------------------------------------------------------------------------------------------------\n",
      "Text:\n",
      " b\"<?php\\n/**\\n * @file\\n * panopoly_wysiwyg.features.filter.inc\\n */\\n\\n/**\\n * Implements hook_filter_default_formats().\\n */\\nfunction panopoly_wysiwyg_filter_default_formats() {\\n  $formats = array();\\n\\n  // Exported format: HTML.\\n  $formats['panopoly_html_text'] = array(\\n    'format' => 'panopoly_html_text',\\n    'name' => 'HTML',\\n    'cache' => 1,\\n    'status' => 1,\\n    'weight' => -9,\\n    'filters' => array(\\n      'image_resize_filter' => array(\\n        'weight' => -50,\\n        'status' => 1,\\n        'settings' => array(\\n          'link' => 0,\\n          'link_class' => '',\\n          'link_rel' => '',\\n          'image_locations' => array(\\n            'local' => 'local',\\n            'remote' => 'remote',\\n          ),\\n        ),\\n      ),\\n      'wysiwyg' => array(\\n        'weight' => -49,\\n        'status' => 1,\\n        'settings' => array(\\n          'valid_elements' => 'a[!href|target<_blank|title|style|class],\\ndiv[style|class|align<center?justify?left?right],\\nbr,em,i,strong,cite,code,blockquote,ul,ol,li,dl,dt,dd,\\nspan[style],p[style|class],\\nh1[style|class],h2[style|class],h3[style|class],h4[style|class],h5[style|class],h6[style|class],\\nimg[!src|title|alt|style|width|height|class|hspace|vspace],\\n@[style|class|role|tabindex|aria-activedescendant|aria-atomic|aria-autocomplete|aria-busy|aria-checked|aria-controls|aria-describedby|aria-disabled|aria-dropeffect|aria-expanded|aria-flowto|aria-grabbed|aria-haspopup|aria-hidden|aria-invalid|aria-label|aria-labelledby|aria-level|aria-live|aria-multiline|aria-multiselectable|aria-owns|aria-posinset|aria-pressed|aria-readonly|aria-relevant|aria-required|aria-selected|aria-setsize|aria-sort|aria-valuemax|aria-valuemin|aria-valuenow|aria-valuetext]',\\n          'allow_comments' => 1,\\n          'nofollow_policy' => 'disabled',\\n          'nofollow_domains' => array(),\\n          'style_color' => array(\\n            'color' => 'color',\\n            'background' => 0,\\n            'background-color' => 0,\\n            'background-image' => 0,\\n            'background-repeat' => 0,\\n            'background-attachment' => 0,\\n            'background-position' => 0,\\n          ),\\n          'style_font' => array(\\n            'font' => 0,\\n            'font-family' => 0,\\n            'font-size' => 0,\\n            'font-size-adjust' => 0,\\n            'font-stretch' => 0,\\n            'font-style' => 0,\\n            'font-variant' => 0,\\n            'font-weight' => 0,\\n          ),\\n          'style_text' => array(\\n            'text-align' => 'text-align',\\n            'text-decoration' => 'text-decoration',\\n            'text-indent' => 0,\\n            'text-transform' => 0,\\n            'letter-spacing' => 0,\\n            'word-spacing' => 0,\\n            'white-space' => 0,\\n            'direction' => 0,\\n            'unicode-bidi' => 0,\\n          ),\\n          'style_box' => array(\\n            'padding-right' => 'padding-right',\\n            'padding-left' => 'padding-left',\\n            'margin' => 0,\\n            'margin-top' => 0,\\n            'margin-right' => 0,\\n            'margin-bottom' => 0,\\n            'margin-left' => 0,\\n            'padding' => 0,\\n            'padding-top' => 0,\\n            'padding-bottom' => 0,\\n          ),\\n          'style_border-1' => array(\\n            'border' => 0,\\n            'border-top' => 0,\\n            'border-right' => 0,\\n            'border-bottom' => 0,\\n            'border-left' => 0,\\n            'border-width' => 0,\\n            'border-top-width' => 0,\\n            'border-right-width' => 0,\\n            'border-bottom-width' => 0,\\n            'border-left-width' => 0,\\n          ),\\n          'style_border-2' => array(\\n            'border-color' => 0,\\n            'border-top-color' => 0,\\n            'border-right-color' => 0,\\n            'border-bottom-color' => 0,\\n            'border-left-color' => 0,\\n            'border-style' => 0,\\n            'border-top-style' => 0,\\n            'border-right-style' => 0,\\n            'border-bottom-style' => 0,\\n            'border-left-style' => 0,\\n          ),\\n          'style_dimension' => array(\\n            'height' => 0,\\n            'line-height' =\"\n",
      "\n",
      "Label: 58 - inc\n",
      "--------------------------------------------------------------------------------------------------------------------------------\n"
     ]
    }
   ],
   "source": [
    "for examples in train_dataset.take(1):\n",
    "    texts = examples[0][:3]\n",
    "    labels = examples[1][:3]\n",
    "\n",
    "    for text, label in zip(texts, labels):\n",
    "        print('Text:\\n', text.numpy())\n",
    "        print(f'\\nLabel: {label.numpy()} - {label_encoder.classes_[label.numpy()]}')\n",
    "        print(\"-\" * 128)"
   ]
  },
  {
   "cell_type": "code",
   "execution_count": 9,
   "metadata": {},
   "outputs": [
    {
     "name": "stdout",
     "output_type": "stream",
     "text": [
      "WARNING:tensorflow:AutoGraph could not transform <function <lambda> at 0x0000029B3ED3C4C0> and will run it as-is.\n",
      "Cause: could not parse the source code of <function <lambda> at 0x0000029B3ED3C4C0>: no matching AST found among candidates:\n",
      "\n",
      "To silence this warning, decorate the function with @tf.autograph.experimental.do_not_convert\n",
      "WARNING: AutoGraph could not transform <function <lambda> at 0x0000029B3ED3C4C0> and will run it as-is.\n",
      "Cause: could not parse the source code of <function <lambda> at 0x0000029B3ED3C4C0>: no matching AST found among candidates:\n",
      "\n",
      "To silence this warning, decorate the function with @tf.autograph.experimental.do_not_convert\n",
      "Wall time: 4min 57s\n"
     ]
    },
    {
     "data": {
      "text/plain": [
       "5000"
      ]
     },
     "execution_count": 9,
     "metadata": {},
     "output_type": "execute_result"
    }
   ],
   "source": [
    "%%time\n",
    "\n",
    "@tf.keras.utils.register_keras_serializable()\n",
    "def unicode_split(text):\n",
    "    return tf.strings.unicode_split(text, 'UTF-8')\n",
    "\n",
    "encoder = TextVectorization(\n",
    "    standardize = None,\n",
    "    max_tokens = model_configs['VOCAB_SIZE'],\n",
    "    ngrams = model_configs['N_GRAMS'],\n",
    "    split = unicode_split,\n",
    "    output_sequence_length = model_configs['SEQ_LEN'],\n",
    "    pad_to_max_tokens = True\n",
    ")\n",
    "encoder.adapt(train_dataset.map(lambda text, label: text))\n",
    "\n",
    "len(encoder.get_vocabulary())"
   ]
  },
  {
   "cell_type": "code",
   "execution_count": 10,
   "metadata": {},
   "outputs": [
    {
     "data": {
      "text/plain": [
       "['',\n",
       " '[UNK]',\n",
       " ' ',\n",
       " '   ',\n",
       " 'e',\n",
       " 't',\n",
       " 'i',\n",
       " 'o',\n",
       " 'r',\n",
       " 'a',\n",
       " 'n',\n",
       " 's',\n",
       " '\\n',\n",
       " 'l',\n",
       " 'c',\n",
       " 'd',\n",
       " 'p',\n",
       " 'u',\n",
       " 'm',\n",
       " '\"',\n",
       " '.',\n",
       " '-',\n",
       " 'h',\n",
       " '\\n  ',\n",
       " 'f']"
      ]
     },
     "execution_count": 10,
     "metadata": {},
     "output_type": "execute_result"
    }
   ],
   "source": [
    "encoder.get_vocabulary()[:25]"
   ]
  },
  {
   "cell_type": "code",
   "execution_count": 11,
   "metadata": {},
   "outputs": [
    {
     "data": {
      "text/plain": [
       "array([[   6,   24,    2,    4,   13,   11,    4,  226,  183,  217,  146,\n",
       "         325,   71,    0,    0,    0,    0,    0,    0,    0],\n",
       "       [  45,   48,   76,   48,   46,   44,    2,   55,  473, 1217,  617,\n",
       "         729,  800,  491,  172,    0,    0,    0,    0,    0]],\n",
       "      dtype=int64)"
      ]
     },
     "execution_count": 11,
     "metadata": {},
     "output_type": "execute_result"
    }
   ],
   "source": [
    "texts = [\"if else\", \"SELECT *\"]\n",
    "encoder(texts).numpy()[:, :20]"
   ]
  },
  {
   "cell_type": "code",
   "execution_count": 12,
   "metadata": {},
   "outputs": [
    {
     "data": {
      "text/plain": [
       "array([['i', 'f', ' ', 'e', 'l', 's', 'e', 'i f', 'f  ', '  e', 'e l',\n",
       "        'l s', 's e', '', '', '', '', '', '', ''],\n",
       "       ['S', 'E', 'L', 'E', 'C', 'T', ' ', '*', 'S E', 'E L', 'L E',\n",
       "        'E C', 'C T', 'T  ', '  *', '', '', '', '', '']], dtype='<U5')"
      ]
     },
     "execution_count": 12,
     "metadata": {},
     "output_type": "execute_result"
    }
   ],
   "source": [
    "np.array(encoder.get_vocabulary())[encoder(texts).numpy()[:, :20]]"
   ]
  },
  {
   "cell_type": "code",
   "execution_count": 13,
   "metadata": {},
   "outputs": [
    {
     "name": "stdout",
     "output_type": "stream",
     "text": [
      "Model: \"sequential\"\n",
      "_________________________________________________________________\n",
      " Layer (type)                Output Shape              Param #   \n",
      "=================================================================\n",
      " text_vectorization (TextVec  (None, 4096)             0         \n",
      " torization)                                                     \n",
      "                                                                 \n",
      " embedding (Embedding)       (None, 4096, 32)          160000    \n",
      "                                                                 \n",
      " bidirectional (Bidirectiona  (None, 4096, 256)        164864    \n",
      " l)                                                              \n",
      "                                                                 \n",
      " bidirectional_1 (Bidirectio  (None, 4096, 256)        394240    \n",
      " nal)                                                            \n",
      "                                                                 \n",
      " bidirectional_2 (Bidirectio  (None, 256)              394240    \n",
      " nal)                                                            \n",
      "                                                                 \n",
      " dropout (Dropout)           (None, 256)               0         \n",
      "                                                                 \n",
      " dense (Dense)               (None, 512)               131584    \n",
      "                                                                 \n",
      " dropout_1 (Dropout)         (None, 512)               0         \n",
      "                                                                 \n",
      " dense_1 (Dense)             (None, 256)               131328    \n",
      "                                                                 \n",
      " dropout_2 (Dropout)         (None, 256)               0         \n",
      "                                                                 \n",
      " dense_2 (Dense)             (None, 256)               65792     \n",
      "                                                                 \n",
      " dense_3 (Dense)             (None, 147)               37779     \n",
      "                                                                 \n",
      "=================================================================\n",
      "Total params: 1,479,827\n",
      "Trainable params: 1,479,827\n",
      "Non-trainable params: 0\n",
      "_________________________________________________________________\n"
     ]
    }
   ],
   "source": [
    "model = tf.keras.Sequential([\n",
    "    encoder,\n",
    "    Embedding(\n",
    "        input_dim = len(encoder.get_vocabulary()),\n",
    "        output_dim = 32\n",
    "        ),\n",
    "    Bidirectional(LSTM(128,  return_sequences = True)),\n",
    "    Bidirectional(LSTM(128,  return_sequences = True)),\n",
    "    Bidirectional(LSTM(128)),\n",
    "    Dropout(0.1),\n",
    "    Dense(512, activation = LeakyReLU()),\n",
    "    Dropout(0.1),\n",
    "    Dense(256, activation = LeakyReLU()),\n",
    "    Dropout(0.1),\n",
    "    Dense(256, activation = LeakyReLU()),\n",
    "    Dense(len(label_encoder.classes_), activation = \"softmax\")\n",
    "])\n",
    "\n",
    "model.compile(\n",
    "    optimizer = Adam(model_configs[\"LEARNING_RATE\"]),\n",
    "    loss = 'sparse_categorical_crossentropy',\n",
    "    metrics = ['sparse_categorical_accuracy']\n",
    ")\n",
    "\n",
    "model.summary()"
   ]
  },
  {
   "cell_type": "code",
   "execution_count": 14,
   "metadata": {},
   "outputs": [],
   "source": [
    "del filecontent_df"
   ]
  },
  {
   "cell_type": "code",
   "execution_count": 15,
   "metadata": {},
   "outputs": [
    {
     "name": "stdout",
     "output_type": "stream",
     "text": [
      "Epoch 1/10\n",
      "1000/1000 [==============================] - 1387s 1s/step - loss: 3.7741 - sparse_categorical_accuracy: 0.1432 - val_loss: 3.0672 - val_sparse_categorical_accuracy: 0.2362\n",
      "Epoch 2/10\n",
      "1000/1000 [==============================] - 1423s 1s/step - loss: 2.8186 - sparse_categorical_accuracy: 0.3057 - val_loss: 2.6152 - val_sparse_categorical_accuracy: 0.3537\n",
      "Epoch 3/10\n",
      "1000/1000 [==============================] - 1445s 1s/step - loss: 2.5166 - sparse_categorical_accuracy: 0.3691 - val_loss: 2.2561 - val_sparse_categorical_accuracy: 0.4331\n",
      "Epoch 4/10\n",
      "1000/1000 [==============================] - 1375s 1s/step - loss: 2.3090 - sparse_categorical_accuracy: 0.4186 - val_loss: 2.0996 - val_sparse_categorical_accuracy: 0.4600\n",
      "Epoch 5/10\n",
      "1000/1000 [==============================] - 1345s 1s/step - loss: 2.1041 - sparse_categorical_accuracy: 0.4601 - val_loss: 1.9983 - val_sparse_categorical_accuracy: 0.4994\n",
      "Epoch 6/10\n",
      "1000/1000 [==============================] - 1325s 1s/step - loss: 2.0237 - sparse_categorical_accuracy: 0.4782 - val_loss: 1.8569 - val_sparse_categorical_accuracy: 0.5131\n",
      "Epoch 7/10\n",
      "1000/1000 [==============================] - 1334s 1s/step - loss: 1.8928 - sparse_categorical_accuracy: 0.5086 - val_loss: 1.7196 - val_sparse_categorical_accuracy: 0.5494\n",
      "Epoch 8/10\n",
      "1000/1000 [==============================] - 1367s 1s/step - loss: 1.8201 - sparse_categorical_accuracy: 0.5231 - val_loss: 1.7055 - val_sparse_categorical_accuracy: 0.5481\n",
      "Epoch 9/10\n",
      "1000/1000 [==============================] - 1388s 1s/step - loss: 1.7251 - sparse_categorical_accuracy: 0.5474 - val_loss: 1.6871 - val_sparse_categorical_accuracy: 0.5450\n",
      "Epoch 10/10\n",
      "1000/1000 [==============================] - 1413s 1s/step - loss: 1.6533 - sparse_categorical_accuracy: 0.5628 - val_loss: 1.5370 - val_sparse_categorical_accuracy: 0.5838\n",
      "Wall time: 3h 50min 1s\n"
     ]
    }
   ],
   "source": [
    "%%time\n",
    "\n",
    "history = model.fit(\n",
    "    train_dataset, \n",
    "    validation_data = val_dataset, \n",
    "    epochs = model_configs[\"EPOCHS\"], \n",
    "    steps_per_epoch = model_configs[\"TRAINING_STEPS\"], \n",
    "    validation_steps = model_configs[\"VALIDATION_STEPS\"]\n",
    ")"
   ]
  },
  {
   "cell_type": "code",
   "execution_count": 16,
   "metadata": {},
   "outputs": [
    {
     "name": "stdout",
     "output_type": "stream",
     "text": [
      "2426/2426 [==============================] - 1551s 639ms/step - loss: 1.5700 - sparse_categorical_accuracy: 0.5842\n",
      "Validation Loss: 1.57\n",
      "Validation Accuracy: 0.584\n"
     ]
    }
   ],
   "source": [
    "loss, accuracy = model.evaluate(val_dataset)\n",
    "print(f\"Validation Loss: {round(loss, 3)}\")\n",
    "print(f\"Validation Accuracy: {round(accuracy, 3)}\")"
   ]
  },
  {
   "cell_type": "code",
   "execution_count": 19,
   "metadata": {},
   "outputs": [
    {
     "name": "stderr",
     "output_type": "stream",
     "text": [
      "WARNING:absl:Found untraced functions such as leaky_re_lu_layer_call_fn, leaky_re_lu_layer_call_and_return_conditional_losses, leaky_re_lu_1_layer_call_fn, leaky_re_lu_1_layer_call_and_return_conditional_losses, leaky_re_lu_2_layer_call_fn while saving (showing 5 of 45). These functions will not be directly callable after loading.\n"
     ]
    },
    {
     "name": "stdout",
     "output_type": "stream",
     "text": [
      "INFO:tensorflow:Assets written to: ../models/Deep_LSTM\\assets\n"
     ]
    },
    {
     "name": "stderr",
     "output_type": "stream",
     "text": [
      "INFO:tensorflow:Assets written to: ../models/Deep_LSTM\\assets\n",
      "WARNING:absl:<keras.layers.recurrent.LSTMCell object at 0x0000029C95AE7520> has the same name 'LSTMCell' as a built-in Keras object. Consider renaming <class 'keras.layers.recurrent.LSTMCell'> to avoid naming conflicts when loading with `tf.keras.models.load_model`. If renaming is not possible, pass the object in the `custom_objects` parameter of the load function.\n",
      "WARNING:absl:<keras.layers.recurrent.LSTMCell object at 0x0000029BBECA68B0> has the same name 'LSTMCell' as a built-in Keras object. Consider renaming <class 'keras.layers.recurrent.LSTMCell'> to avoid naming conflicts when loading with `tf.keras.models.load_model`. If renaming is not possible, pass the object in the `custom_objects` parameter of the load function.\n",
      "WARNING:absl:<keras.layers.recurrent.LSTMCell object at 0x0000029BBE896280> has the same name 'LSTMCell' as a built-in Keras object. Consider renaming <class 'keras.layers.recurrent.LSTMCell'> to avoid naming conflicts when loading with `tf.keras.models.load_model`. If renaming is not possible, pass the object in the `custom_objects` parameter of the load function.\n",
      "WARNING:absl:<keras.layers.recurrent.LSTMCell object at 0x0000029BBE6CB820> has the same name 'LSTMCell' as a built-in Keras object. Consider renaming <class 'keras.layers.recurrent.LSTMCell'> to avoid naming conflicts when loading with `tf.keras.models.load_model`. If renaming is not possible, pass the object in the `custom_objects` parameter of the load function.\n",
      "WARNING:absl:<keras.layers.recurrent.LSTMCell object at 0x0000029BBE6AB190> has the same name 'LSTMCell' as a built-in Keras object. Consider renaming <class 'keras.layers.recurrent.LSTMCell'> to avoid naming conflicts when loading with `tf.keras.models.load_model`. If renaming is not possible, pass the object in the `custom_objects` parameter of the load function.\n",
      "WARNING:absl:<keras.layers.recurrent.LSTMCell object at 0x0000029BBE6A6760> has the same name 'LSTMCell' as a built-in Keras object. Consider renaming <class 'keras.layers.recurrent.LSTMCell'> to avoid naming conflicts when loading with `tf.keras.models.load_model`. If renaming is not possible, pass the object in the `custom_objects` parameter of the load function.\n"
     ]
    }
   ],
   "source": [
    "model.save(f\"{configs['MODELS_BASE_PATH']}{model_configs['MODEL_NAME']}\")"
   ]
  },
  {
   "cell_type": "code",
   "execution_count": 70,
   "metadata": {},
   "outputs": [],
   "source": [
    "metadata_file_name = \"embedding_metadata.tsv\"\n",
    "metadata_file_path = f\"{configs['MODELS_BASE_PATH']}{model_configs['EMBEDDINGS_FOLDER']}/{metadata_file_name}\"\n",
    "\n",
    "token_names = {\n",
    "    '': \"Empty String\",\n",
    "    '[UNK]': \"Unknown\"\n",
    "}\n",
    "\n",
    "with open(metadata_file_path, 'w', encoding = 'UTF-8') as metadata_file:\n",
    "    metadata_file.write(\"Unicode\\tNGram\\tID\\n\")\n",
    "    for i, v in enumerate(encoder.get_vocabulary()):\n",
    "        token = repr(v) if v not in token_names.keys() else token_names[v]\n",
    "        n_gram = (len(v) // 2) + 1 if i > 1 else 0\n",
    "        metadata_file.write(f\"{token}\\t{n_gram}\\t{i}\\n\")"
   ]
  },
  {
   "cell_type": "code",
   "execution_count": 68,
   "metadata": {},
   "outputs": [],
   "source": [
    "from tensorboard.plugins import projector\n",
    "\n",
    "embedding_weights = tf.Variable(model.layers[1].get_weights()[0])\n",
    "checkpoint = tf.train.Checkpoint(embedding = embedding_weights)\n",
    "checkpoint.save(f\"{configs['MODELS_BASE_PATH']}{model_configs['EMBEDDINGS_FOLDER']}/embedding.ckpt\")\n",
    "\n",
    "projector_config = projector.ProjectorConfig()\n",
    "embedding_conf = projector_config.embeddings.add()\n",
    "embedding_conf.tensor_name = \"embedding/.ATTRIBUTES/VARIABLE_VALUE\"\n",
    "embedding_conf.metadata_path = metadata_file_name\n",
    "projector.visualize_embeddings(f\"{configs['MODELS_BASE_PATH']}{model_configs['EMBEDDINGS_FOLDER']}\", projector_config)\n"
   ]
  },
  {
   "cell_type": "code",
   "execution_count": null,
   "metadata": {},
   "outputs": [],
   "source": []
  }
 ],
 "metadata": {
  "interpreter": {
   "hash": "dcbe076a40d8142e585077643c26fc4a9c0eed423ce3f041c8a5b2e5c8137bb1"
  },
  "kernelspec": {
   "display_name": "Python 3.8.7 64-bit",
   "language": "python",
   "name": "python3"
  },
  "language_info": {
   "codemirror_mode": {
    "name": "ipython",
    "version": 3
   },
   "file_extension": ".py",
   "mimetype": "text/x-python",
   "name": "python",
   "nbconvert_exporter": "python",
   "pygments_lexer": "ipython3",
   "version": "3.8.7"
  },
  "orig_nbformat": 4
 },
 "nbformat": 4,
 "nbformat_minor": 2
}
