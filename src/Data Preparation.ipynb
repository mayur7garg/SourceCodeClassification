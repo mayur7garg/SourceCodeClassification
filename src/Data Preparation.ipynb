{
 "cells": [
  {
   "cell_type": "markdown",
   "metadata": {},
   "source": [
    "## Imports"
   ]
  },
  {
   "cell_type": "code",
   "execution_count": 1,
   "metadata": {},
   "outputs": [],
   "source": [
    "import re\n",
    "import json\n",
    "import numpy as np\n",
    "import pandas as pd\n",
    "from matplotlib import pyplot as plt\n",
    "import seaborn as sns\n",
    "\n",
    "from model_utility import SYMBOLS"
   ]
  },
  {
   "cell_type": "markdown",
   "metadata": {},
   "source": [
    "## Configurations"
   ]
  },
  {
   "cell_type": "code",
   "execution_count": 2,
   "metadata": {},
   "outputs": [
    {
     "data": {
      "text/plain": [
       "{'DATASET_BASE_PATH': '../GitHub Repo Sample Data/'}"
      ]
     },
     "execution_count": 2,
     "metadata": {},
     "output_type": "execute_result"
    }
   ],
   "source": [
    "plt.style.use('ggplot')\n",
    "\n",
    "with open(\"configs.json\", \"r\") as config_file:\n",
    "    configs = json.load(config_file)\n",
    "\n",
    "configs"
   ]
  },
  {
   "cell_type": "markdown",
   "metadata": {},
   "source": [
    "## Data Loading"
   ]
  },
  {
   "cell_type": "code",
   "execution_count": 3,
   "metadata": {},
   "outputs": [
    {
     "data": {
      "text/html": [
       "<div>\n",
       "<style scoped>\n",
       "    .dataframe tbody tr th:only-of-type {\n",
       "        vertical-align: middle;\n",
       "    }\n",
       "\n",
       "    .dataframe tbody tr th {\n",
       "        vertical-align: top;\n",
       "    }\n",
       "\n",
       "    .dataframe thead th {\n",
       "        text-align: right;\n",
       "    }\n",
       "</style>\n",
       "<table border=\"1\" class=\"dataframe\">\n",
       "  <thead>\n",
       "    <tr style=\"text-align: right;\">\n",
       "      <th></th>\n",
       "      <th>sample_path</th>\n",
       "      <th>content</th>\n",
       "      <th>extension</th>\n",
       "    </tr>\n",
       "  </thead>\n",
       "  <tbody>\n",
       "    <tr>\n",
       "      <th>0</th>\n",
       "      <td>Unity/Assets/eDriven/Demo/_shared/Materials/Ma...</td>\n",
       "      <td>fileFormatVersion: 2\\nguid: 83fb76c2876417a4cb...</td>\n",
       "      <td>meta</td>\n",
       "    </tr>\n",
       "    <tr>\n",
       "      <th>1</th>\n",
       "      <td>Assets/RPGSystems/Scripts/Stats/RPGStatCollect...</td>\n",
       "      <td>fileFormatVersion: 2\\nguid: 172ba00023166314c8...</td>\n",
       "      <td>meta</td>\n",
       "    </tr>\n",
       "    <tr>\n",
       "      <th>2</th>\n",
       "      <td>Assets/singleplayer/scripts/SingleGameUnit.cs....</td>\n",
       "      <td>fileFormatVersion: 2\\nguid: 5343291fbebbcdb4fa...</td>\n",
       "      <td>meta</td>\n",
       "    </tr>\n",
       "    <tr>\n",
       "      <th>3</th>\n",
       "      <td>Assets/Textures/Pictures/cars/quad/Resources/q...</td>\n",
       "      <td>fileFormatVersion: 2\\nguid: 9057805e7fcf641ccb...</td>\n",
       "      <td>meta</td>\n",
       "    </tr>\n",
       "    <tr>\n",
       "      <th>4</th>\n",
       "      <td>Assets/Art/Characters/99 Super Sanic/SuperSani...</td>\n",
       "      <td>fileFormatVersion: 2\\nguid: fa975b7184d12a446b...</td>\n",
       "      <td>meta</td>\n",
       "    </tr>\n",
       "  </tbody>\n",
       "</table>\n",
       "</div>"
      ],
      "text/plain": [
       "                                         sample_path  \\\n",
       "0  Unity/Assets/eDriven/Demo/_shared/Materials/Ma...   \n",
       "1  Assets/RPGSystems/Scripts/Stats/RPGStatCollect...   \n",
       "2  Assets/singleplayer/scripts/SingleGameUnit.cs....   \n",
       "3  Assets/Textures/Pictures/cars/quad/Resources/q...   \n",
       "4  Assets/Art/Characters/99 Super Sanic/SuperSani...   \n",
       "\n",
       "                                             content extension  \n",
       "0  fileFormatVersion: 2\\nguid: 83fb76c2876417a4cb...      meta  \n",
       "1  fileFormatVersion: 2\\nguid: 172ba00023166314c8...      meta  \n",
       "2  fileFormatVersion: 2\\nguid: 5343291fbebbcdb4fa...      meta  \n",
       "3  fileFormatVersion: 2\\nguid: 9057805e7fcf641ccb...      meta  \n",
       "4  fileFormatVersion: 2\\nguid: fa975b7184d12a446b...      meta  "
      ]
     },
     "execution_count": 3,
     "metadata": {},
     "output_type": "execute_result"
    }
   ],
   "source": [
    "filecontent_df = pd.read_csv(configs[\"DATASET_BASE_PATH\"] + \"filecontent_with_top_ext.csv\", dtype = str, lineterminator=\"\\n\")\n",
    "filecontent_df.head()"
   ]
  },
  {
   "cell_type": "code",
   "execution_count": 4,
   "metadata": {},
   "outputs": [
    {
     "data": {
      "text/plain": [
       "(388009, 3)"
      ]
     },
     "execution_count": 4,
     "metadata": {},
     "output_type": "execute_result"
    }
   ],
   "source": [
    "filecontent_df.shape"
   ]
  },
  {
   "cell_type": "code",
   "execution_count": 5,
   "metadata": {},
   "outputs": [
    {
     "data": {
      "text/plain": [
       "sample_path    0\n",
       "content        0\n",
       "extension      0\n",
       "dtype: int64"
      ]
     },
     "execution_count": 5,
     "metadata": {},
     "output_type": "execute_result"
    }
   ],
   "source": [
    "filecontent_df.isnull().sum()"
   ]
  },
  {
   "cell_type": "code",
   "execution_count": 6,
   "metadata": {},
   "outputs": [
    {
     "name": "stdout",
     "output_type": "stream",
     "text": [
      "<class 'pandas.core.frame.DataFrame'>\n",
      "RangeIndex: 388009 entries, 0 to 388008\n",
      "Data columns (total 3 columns):\n",
      " #   Column       Non-Null Count   Dtype \n",
      "---  ------       --------------   ----- \n",
      " 0   sample_path  388009 non-null  object\n",
      " 1   content      388009 non-null  object\n",
      " 2   extension    388009 non-null  object\n",
      "dtypes: object(3)\n",
      "memory usage: 1.1 GB\n"
     ]
    }
   ],
   "source": [
    "filecontent_df.info(memory_usage='deep')"
   ]
  },
  {
   "cell_type": "markdown",
   "metadata": {},
   "source": [
    "## Feature engineering and EDA"
   ]
  },
  {
   "cell_type": "markdown",
   "metadata": {},
   "source": [
    "### Content length in characters"
   ]
  },
  {
   "cell_type": "code",
   "execution_count": 7,
   "metadata": {},
   "outputs": [
    {
     "data": {
      "text/html": [
       "<div>\n",
       "<style scoped>\n",
       "    .dataframe tbody tr th:only-of-type {\n",
       "        vertical-align: middle;\n",
       "    }\n",
       "\n",
       "    .dataframe tbody tr th {\n",
       "        vertical-align: top;\n",
       "    }\n",
       "\n",
       "    .dataframe thead th {\n",
       "        text-align: right;\n",
       "    }\n",
       "</style>\n",
       "<table border=\"1\" class=\"dataframe\">\n",
       "  <thead>\n",
       "    <tr style=\"text-align: right;\">\n",
       "      <th></th>\n",
       "      <th>sample_path</th>\n",
       "      <th>content</th>\n",
       "      <th>extension</th>\n",
       "      <th>content_len</th>\n",
       "    </tr>\n",
       "  </thead>\n",
       "  <tbody>\n",
       "    <tr>\n",
       "      <th>0</th>\n",
       "      <td>Unity/Assets/eDriven/Demo/_shared/Materials/Ma...</td>\n",
       "      <td>fileFormatVersion: 2\\nguid: 83fb76c2876417a4cb...</td>\n",
       "      <td>meta</td>\n",
       "      <td>981</td>\n",
       "    </tr>\n",
       "    <tr>\n",
       "      <th>1</th>\n",
       "      <td>Assets/RPGSystems/Scripts/Stats/RPGStatCollect...</td>\n",
       "      <td>fileFormatVersion: 2\\nguid: 172ba00023166314c8...</td>\n",
       "      <td>meta</td>\n",
       "      <td>262</td>\n",
       "    </tr>\n",
       "    <tr>\n",
       "      <th>2</th>\n",
       "      <td>Assets/singleplayer/scripts/SingleGameUnit.cs....</td>\n",
       "      <td>fileFormatVersion: 2\\nguid: 5343291fbebbcdb4fa...</td>\n",
       "      <td>meta</td>\n",
       "      <td>263</td>\n",
       "    </tr>\n",
       "    <tr>\n",
       "      <th>3</th>\n",
       "      <td>Assets/Textures/Pictures/cars/quad/Resources/q...</td>\n",
       "      <td>fileFormatVersion: 2\\nguid: 9057805e7fcf641ccb...</td>\n",
       "      <td>meta</td>\n",
       "      <td>910</td>\n",
       "    </tr>\n",
       "    <tr>\n",
       "      <th>4</th>\n",
       "      <td>Assets/Art/Characters/99 Super Sanic/SuperSani...</td>\n",
       "      <td>fileFormatVersion: 2\\nguid: fa975b7184d12a446b...</td>\n",
       "      <td>meta</td>\n",
       "      <td>1121</td>\n",
       "    </tr>\n",
       "  </tbody>\n",
       "</table>\n",
       "</div>"
      ],
      "text/plain": [
       "                                         sample_path  \\\n",
       "0  Unity/Assets/eDriven/Demo/_shared/Materials/Ma...   \n",
       "1  Assets/RPGSystems/Scripts/Stats/RPGStatCollect...   \n",
       "2  Assets/singleplayer/scripts/SingleGameUnit.cs....   \n",
       "3  Assets/Textures/Pictures/cars/quad/Resources/q...   \n",
       "4  Assets/Art/Characters/99 Super Sanic/SuperSani...   \n",
       "\n",
       "                                             content extension  content_len  \n",
       "0  fileFormatVersion: 2\\nguid: 83fb76c2876417a4cb...      meta          981  \n",
       "1  fileFormatVersion: 2\\nguid: 172ba00023166314c8...      meta          262  \n",
       "2  fileFormatVersion: 2\\nguid: 5343291fbebbcdb4fa...      meta          263  \n",
       "3  fileFormatVersion: 2\\nguid: 9057805e7fcf641ccb...      meta          910  \n",
       "4  fileFormatVersion: 2\\nguid: fa975b7184d12a446b...      meta         1121  "
      ]
     },
     "execution_count": 7,
     "metadata": {},
     "output_type": "execute_result"
    }
   ],
   "source": [
    "filecontent_df['content_len'] = filecontent_df['content'].str.len()\n",
    "filecontent_df.head()"
   ]
  },
  {
   "cell_type": "code",
   "execution_count": 8,
   "metadata": {},
   "outputs": [
    {
     "data": {
      "text/plain": [
       "count    388009.000000\n",
       "mean       2390.042447\n",
       "std        1482.940609\n",
       "min         256.000000\n",
       "25%         923.000000\n",
       "50%        2220.000000\n",
       "75%        4096.000000\n",
       "max        4096.000000\n",
       "Name: content_len, dtype: float64"
      ]
     },
     "execution_count": 8,
     "metadata": {},
     "output_type": "execute_result"
    }
   ],
   "source": [
    "MIN_CHAR_COUNT = filecontent_df['content_len'].min()\n",
    "MAX_CHAR_COUNT = filecontent_df['content_len'].max()\n",
    "filecontent_df['content_len'].describe()"
   ]
  },
  {
   "cell_type": "code",
   "execution_count": 9,
   "metadata": {},
   "outputs": [
    {
     "data": {
      "image/png": "[encoded data removed]",
      "text/plain": [
       "<Figure size 864x432 with 1 Axes>"
      ]
     },
     "metadata": {},
     "output_type": "display_data"
    }
   ],
   "source": [
    "plt.figure(figsize = (12, 6))\n",
    "\n",
    "plt.hist(filecontent_df['content_len'], bins = 32, density=True, alpha = 0.7, range = (MIN_CHAR_COUNT, MAX_CHAR_COUNT))\n",
    "\n",
    "sns.kdeplot(filecontent_df['content_len'], clip = (MIN_CHAR_COUNT, MAX_CHAR_COUNT), linewidth = 2)\n",
    "\n",
    "plt.text(\n",
    "    3000, 0.002, \n",
    "    f\"This spike is because \\nall content was \\ntruncated to leftmost \\n{MAX_CHAR_COUNT} chars while \\ncollecting this data.\", \n",
    "    fontsize = 12)\n",
    "plt.xlabel(\"Content length in characters\", fontsize = 16)\n",
    "plt.ylabel(\"Density\", fontsize = 16)\n",
    "plt.title(\"Frequency of content length\", fontsize = 20)\n",
    "plt.show()"
   ]
  },
  {
   "cell_type": "code",
   "execution_count": 10,
   "metadata": {},
   "outputs": [
    {
     "data": {
      "text/html": [
       "<div>\n",
       "<style scoped>\n",
       "    .dataframe tbody tr th:only-of-type {\n",
       "        vertical-align: middle;\n",
       "    }\n",
       "\n",
       "    .dataframe tbody tr th {\n",
       "        vertical-align: top;\n",
       "    }\n",
       "\n",
       "    .dataframe thead th {\n",
       "        text-align: right;\n",
       "    }\n",
       "</style>\n",
       "<table border=\"1\" class=\"dataframe\">\n",
       "  <thead>\n",
       "    <tr style=\"text-align: right;\">\n",
       "      <th></th>\n",
       "      <th>content_len</th>\n",
       "    </tr>\n",
       "    <tr>\n",
       "      <th>extension</th>\n",
       "      <th></th>\n",
       "    </tr>\n",
       "  </thead>\n",
       "  <tbody>\n",
       "    <tr>\n",
       "      <th>llocs</th>\n",
       "      <td>517.2</td>\n",
       "    </tr>\n",
       "    <tr>\n",
       "      <th>pgm</th>\n",
       "      <td>582.1</td>\n",
       "    </tr>\n",
       "    <tr>\n",
       "      <th>geojson</th>\n",
       "      <td>790.8</td>\n",
       "    </tr>\n",
       "    <tr>\n",
       "      <th>meta</th>\n",
       "      <td>895.3</td>\n",
       "    </tr>\n",
       "    <tr>\n",
       "      <th>bb</th>\n",
       "      <td>973.6</td>\n",
       "    </tr>\n",
       "    <tr>\n",
       "      <th>...</th>\n",
       "      <td>...</td>\n",
       "    </tr>\n",
       "    <tr>\n",
       "      <th>ipynb</th>\n",
       "      <td>3793.2</td>\n",
       "    </tr>\n",
       "    <tr>\n",
       "      <th>vcproj</th>\n",
       "      <td>4017.4</td>\n",
       "    </tr>\n",
       "    <tr>\n",
       "      <th>vcxproj</th>\n",
       "      <td>4055.0</td>\n",
       "    </tr>\n",
       "    <tr>\n",
       "      <th>resx</th>\n",
       "      <td>4082.1</td>\n",
       "    </tr>\n",
       "    <tr>\n",
       "      <th>pbxproj</th>\n",
       "      <td>4095.3</td>\n",
       "    </tr>\n",
       "  </tbody>\n",
       "</table>\n",
       "<p>147 rows × 1 columns</p>\n",
       "</div>"
      ],
      "text/plain": [
       "           content_len\n",
       "extension             \n",
       "llocs            517.2\n",
       "pgm              582.1\n",
       "geojson          790.8\n",
       "meta             895.3\n",
       "bb               973.6\n",
       "...                ...\n",
       "ipynb           3793.2\n",
       "vcproj          4017.4\n",
       "vcxproj         4055.0\n",
       "resx            4082.1\n",
       "pbxproj         4095.3\n",
       "\n",
       "[147 rows x 1 columns]"
      ]
     },
     "execution_count": 10,
     "metadata": {},
     "output_type": "execute_result"
    }
   ],
   "source": [
    "avg_len_by_extn = filecontent_df.groupby(\"extension\").agg({\"content_len\": np.mean}).sort_values(\"content_len\")\n",
    "avg_len_by_extn.round(1)"
   ]
  },
  {
   "cell_type": "code",
   "execution_count": 11,
   "metadata": {},
   "outputs": [
    {
     "data": {
      "image/png": "[encoded data removed]",
      "text/plain": [
       "<Figure size 1728x576 with 1 Axes>"
      ]
     },
     "metadata": {},
     "output_type": "display_data"
    }
   ],
   "source": [
    "plt.figure(figsize = (24, 8))\n",
    "sns.barplot(data = avg_len_by_extn, y = \"content_len\", x = avg_len_by_extn.index)\n",
    "plt.xticks(range(len(avg_len_by_extn)), avg_len_by_extn.index, rotation = 90, fontsize = 12)\n",
    "plt.xlabel(\"Extension\", fontsize = 18)\n",
    "plt.ylabel(\"Avg content length in chars\", fontsize = 18)\n",
    "plt.title(\"Average content length by extension\", fontsize = 24)\n",
    "plt.show()"
   ]
  },
  {
   "cell_type": "markdown",
   "metadata": {},
   "source": [
    "### Symbol counts"
   ]
  },
  {
   "cell_type": "code",
   "execution_count": 12,
   "metadata": {},
   "outputs": [
    {
     "name": "stdout",
     "output_type": "stream",
     "text": [
      "Wall time: 27.5 s\n"
     ]
    },
    {
     "data": {
      "text/plain": [
       "(388009, 25)"
      ]
     },
     "execution_count": 12,
     "metadata": {},
     "output_type": "execute_result"
    }
   ],
   "source": [
    "%%time\n",
    "symbol_count_cols = []\n",
    "\n",
    "for symbol in SYMBOLS:\n",
    "    symbol_col_name = f\"Norm Count {symbol}\"\n",
    "    filecontent_df[symbol_col_name] = filecontent_df[\"content\"].str.count(re.escape(symbol)) / filecontent_df[\"content_len\"]\n",
    "    symbol_count_cols.append(symbol_col_name)\n",
    "\n",
    "filecontent_df.shape"
   ]
  },
  {
   "cell_type": "code",
   "execution_count": 13,
   "metadata": {},
   "outputs": [
    {
     "data": {
      "text/html": [
       "<div>\n",
       "<style scoped>\n",
       "    .dataframe tbody tr th:only-of-type {\n",
       "        vertical-align: middle;\n",
       "    }\n",
       "\n",
       "    .dataframe tbody tr th {\n",
       "        vertical-align: top;\n",
       "    }\n",
       "\n",
       "    .dataframe thead th {\n",
       "        text-align: right;\n",
       "    }\n",
       "</style>\n",
       "<table border=\"1\" class=\"dataframe\">\n",
       "  <thead>\n",
       "    <tr style=\"text-align: right;\">\n",
       "      <th></th>\n",
       "      <th>content_len</th>\n",
       "      <th>Norm Count</th>\n",
       "      <th>Norm Count \\n</th>\n",
       "      <th>Norm Count \\t</th>\n",
       "      <th>Norm Count _</th>\n",
       "      <th>Norm Count +</th>\n",
       "      <th>Norm Count -</th>\n",
       "      <th>Norm Count *</th>\n",
       "      <th>Norm Count /</th>\n",
       "      <th>Norm Count %</th>\n",
       "      <th>...</th>\n",
       "      <th>Norm Count --</th>\n",
       "      <th>Norm Count **</th>\n",
       "      <th>Norm Count //</th>\n",
       "      <th>Norm Count %%</th>\n",
       "      <th>Norm Count ==</th>\n",
       "      <th>Norm Count +=</th>\n",
       "      <th>Norm Count -=</th>\n",
       "      <th>Norm Count *=</th>\n",
       "      <th>Norm Count /=</th>\n",
       "      <th>Norm Count %=</th>\n",
       "    </tr>\n",
       "  </thead>\n",
       "  <tbody>\n",
       "    <tr>\n",
       "      <th>count</th>\n",
       "      <td>388009.00</td>\n",
       "      <td>388009.00</td>\n",
       "      <td>388009.00</td>\n",
       "      <td>388009.00</td>\n",
       "      <td>388009.00</td>\n",
       "      <td>388009.00</td>\n",
       "      <td>388009.00</td>\n",
       "      <td>388009.00</td>\n",
       "      <td>388009.00</td>\n",
       "      <td>388009.00</td>\n",
       "      <td>...</td>\n",
       "      <td>388009.00</td>\n",
       "      <td>388009.00</td>\n",
       "      <td>388009.00</td>\n",
       "      <td>388009.00</td>\n",
       "      <td>388009.00</td>\n",
       "      <td>388009.00</td>\n",
       "      <td>388009.00</td>\n",
       "      <td>388009.00</td>\n",
       "      <td>388009.00</td>\n",
       "      <td>388009.00</td>\n",
       "    </tr>\n",
       "    <tr>\n",
       "      <th>mean</th>\n",
       "      <td>2390.04</td>\n",
       "      <td>0.15</td>\n",
       "      <td>0.03</td>\n",
       "      <td>0.01</td>\n",
       "      <td>0.01</td>\n",
       "      <td>0.00</td>\n",
       "      <td>0.01</td>\n",
       "      <td>0.00</td>\n",
       "      <td>0.01</td>\n",
       "      <td>0.00</td>\n",
       "      <td>...</td>\n",
       "      <td>0.00</td>\n",
       "      <td>0.00</td>\n",
       "      <td>0.00</td>\n",
       "      <td>0.00</td>\n",
       "      <td>0.00</td>\n",
       "      <td>0.00</td>\n",
       "      <td>0.00</td>\n",
       "      <td>0.00</td>\n",
       "      <td>0.00</td>\n",
       "      <td>0.00</td>\n",
       "    </tr>\n",
       "    <tr>\n",
       "      <th>std</th>\n",
       "      <td>1482.94</td>\n",
       "      <td>0.09</td>\n",
       "      <td>0.02</td>\n",
       "      <td>0.02</td>\n",
       "      <td>0.01</td>\n",
       "      <td>0.01</td>\n",
       "      <td>0.03</td>\n",
       "      <td>0.02</td>\n",
       "      <td>0.02</td>\n",
       "      <td>0.01</td>\n",
       "      <td>...</td>\n",
       "      <td>0.01</td>\n",
       "      <td>0.01</td>\n",
       "      <td>0.01</td>\n",
       "      <td>0.00</td>\n",
       "      <td>0.01</td>\n",
       "      <td>0.00</td>\n",
       "      <td>0.00</td>\n",
       "      <td>0.00</td>\n",
       "      <td>0.00</td>\n",
       "      <td>0.00</td>\n",
       "    </tr>\n",
       "    <tr>\n",
       "      <th>min</th>\n",
       "      <td>256.00</td>\n",
       "      <td>0.00</td>\n",
       "      <td>0.00</td>\n",
       "      <td>0.00</td>\n",
       "      <td>0.00</td>\n",
       "      <td>0.00</td>\n",
       "      <td>0.00</td>\n",
       "      <td>0.00</td>\n",
       "      <td>0.00</td>\n",
       "      <td>0.00</td>\n",
       "      <td>...</td>\n",
       "      <td>0.00</td>\n",
       "      <td>0.00</td>\n",
       "      <td>0.00</td>\n",
       "      <td>0.00</td>\n",
       "      <td>0.00</td>\n",
       "      <td>0.00</td>\n",
       "      <td>0.00</td>\n",
       "      <td>0.00</td>\n",
       "      <td>0.00</td>\n",
       "      <td>0.00</td>\n",
       "    </tr>\n",
       "    <tr>\n",
       "      <th>25%</th>\n",
       "      <td>923.00</td>\n",
       "      <td>0.09</td>\n",
       "      <td>0.02</td>\n",
       "      <td>0.00</td>\n",
       "      <td>0.00</td>\n",
       "      <td>0.00</td>\n",
       "      <td>0.00</td>\n",
       "      <td>0.00</td>\n",
       "      <td>0.00</td>\n",
       "      <td>0.00</td>\n",
       "      <td>...</td>\n",
       "      <td>0.00</td>\n",
       "      <td>0.00</td>\n",
       "      <td>0.00</td>\n",
       "      <td>0.00</td>\n",
       "      <td>0.00</td>\n",
       "      <td>0.00</td>\n",
       "      <td>0.00</td>\n",
       "      <td>0.00</td>\n",
       "      <td>0.00</td>\n",
       "      <td>0.00</td>\n",
       "    </tr>\n",
       "    <tr>\n",
       "      <th>50%</th>\n",
       "      <td>2220.00</td>\n",
       "      <td>0.14</td>\n",
       "      <td>0.03</td>\n",
       "      <td>0.00</td>\n",
       "      <td>0.00</td>\n",
       "      <td>0.00</td>\n",
       "      <td>0.00</td>\n",
       "      <td>0.00</td>\n",
       "      <td>0.01</td>\n",
       "      <td>0.00</td>\n",
       "      <td>...</td>\n",
       "      <td>0.00</td>\n",
       "      <td>0.00</td>\n",
       "      <td>0.00</td>\n",
       "      <td>0.00</td>\n",
       "      <td>0.00</td>\n",
       "      <td>0.00</td>\n",
       "      <td>0.00</td>\n",
       "      <td>0.00</td>\n",
       "      <td>0.00</td>\n",
       "      <td>0.00</td>\n",
       "    </tr>\n",
       "    <tr>\n",
       "      <th>75%</th>\n",
       "      <td>4096.00</td>\n",
       "      <td>0.20</td>\n",
       "      <td>0.04</td>\n",
       "      <td>0.00</td>\n",
       "      <td>0.01</td>\n",
       "      <td>0.00</td>\n",
       "      <td>0.01</td>\n",
       "      <td>0.00</td>\n",
       "      <td>0.02</td>\n",
       "      <td>0.00</td>\n",
       "      <td>...</td>\n",
       "      <td>0.00</td>\n",
       "      <td>0.00</td>\n",
       "      <td>0.00</td>\n",
       "      <td>0.00</td>\n",
       "      <td>0.00</td>\n",
       "      <td>0.00</td>\n",
       "      <td>0.00</td>\n",
       "      <td>0.00</td>\n",
       "      <td>0.00</td>\n",
       "      <td>0.00</td>\n",
       "    </tr>\n",
       "    <tr>\n",
       "      <th>max</th>\n",
       "      <td>4096.00</td>\n",
       "      <td>0.95</td>\n",
       "      <td>0.54</td>\n",
       "      <td>0.48</td>\n",
       "      <td>0.47</td>\n",
       "      <td>0.82</td>\n",
       "      <td>0.79</td>\n",
       "      <td>0.86</td>\n",
       "      <td>0.75</td>\n",
       "      <td>0.37</td>\n",
       "      <td>...</td>\n",
       "      <td>0.38</td>\n",
       "      <td>0.40</td>\n",
       "      <td>0.37</td>\n",
       "      <td>0.18</td>\n",
       "      <td>0.36</td>\n",
       "      <td>0.07</td>\n",
       "      <td>0.13</td>\n",
       "      <td>0.03</td>\n",
       "      <td>0.04</td>\n",
       "      <td>0.04</td>\n",
       "    </tr>\n",
       "  </tbody>\n",
       "</table>\n",
       "<p>8 rows × 22 columns</p>\n",
       "</div>"
      ],
      "text/plain": [
       "       content_len  Norm Count    Norm Count \\n  Norm Count \\t  Norm Count _  \\\n",
       "count    388009.00     388009.00      388009.00      388009.00     388009.00   \n",
       "mean       2390.04          0.15           0.03           0.01          0.01   \n",
       "std        1482.94          0.09           0.02           0.02          0.01   \n",
       "min         256.00          0.00           0.00           0.00          0.00   \n",
       "25%         923.00          0.09           0.02           0.00          0.00   \n",
       "50%        2220.00          0.14           0.03           0.00          0.00   \n",
       "75%        4096.00          0.20           0.04           0.00          0.01   \n",
       "max        4096.00          0.95           0.54           0.48          0.47   \n",
       "\n",
       "       Norm Count +  Norm Count -  Norm Count *  Norm Count /  Norm Count %  \\\n",
       "count     388009.00     388009.00     388009.00     388009.00     388009.00   \n",
       "mean           0.00          0.01          0.00          0.01          0.00   \n",
       "std            0.01          0.03          0.02          0.02          0.01   \n",
       "min            0.00          0.00          0.00          0.00          0.00   \n",
       "25%            0.00          0.00          0.00          0.00          0.00   \n",
       "50%            0.00          0.00          0.00          0.01          0.00   \n",
       "75%            0.00          0.01          0.00          0.02          0.00   \n",
       "max            0.82          0.79          0.86          0.75          0.37   \n",
       "\n",
       "       ...  Norm Count --  Norm Count **  Norm Count //  Norm Count %%  \\\n",
       "count  ...      388009.00      388009.00      388009.00      388009.00   \n",
       "mean   ...           0.00           0.00           0.00           0.00   \n",
       "std    ...           0.01           0.01           0.01           0.00   \n",
       "min    ...           0.00           0.00           0.00           0.00   \n",
       "25%    ...           0.00           0.00           0.00           0.00   \n",
       "50%    ...           0.00           0.00           0.00           0.00   \n",
       "75%    ...           0.00           0.00           0.00           0.00   \n",
       "max    ...           0.38           0.40           0.37           0.18   \n",
       "\n",
       "       Norm Count ==  Norm Count +=  Norm Count -=  Norm Count *=  \\\n",
       "count      388009.00      388009.00      388009.00      388009.00   \n",
       "mean            0.00           0.00           0.00           0.00   \n",
       "std             0.01           0.00           0.00           0.00   \n",
       "min             0.00           0.00           0.00           0.00   \n",
       "25%             0.00           0.00           0.00           0.00   \n",
       "50%             0.00           0.00           0.00           0.00   \n",
       "75%             0.00           0.00           0.00           0.00   \n",
       "max             0.36           0.07           0.13           0.03   \n",
       "\n",
       "       Norm Count /=  Norm Count %=  \n",
       "count      388009.00      388009.00  \n",
       "mean            0.00           0.00  \n",
       "std             0.00           0.00  \n",
       "min             0.00           0.00  \n",
       "25%             0.00           0.00  \n",
       "50%             0.00           0.00  \n",
       "75%             0.00           0.00  \n",
       "max             0.04           0.04  \n",
       "\n",
       "[8 rows x 22 columns]"
      ]
     },
     "execution_count": 13,
     "metadata": {},
     "output_type": "execute_result"
    }
   ],
   "source": [
    "filecontent_df.describe().round(2)"
   ]
  }
 ],
 "metadata": {
  "interpreter": {
   "hash": "dcbe076a40d8142e585077643c26fc4a9c0eed423ce3f041c8a5b2e5c8137bb1"
  },
  "kernelspec": {
   "display_name": "Python 3.8.7 64-bit",
   "language": "python",
   "name": "python3"
  },
  "language_info": {
   "codemirror_mode": {
    "name": "ipython",
    "version": 3
   },
   "file_extension": ".py",
   "mimetype": "text/x-python",
   "name": "python",
   "nbconvert_exporter": "python",
   "pygments_lexer": "ipython3",
   "version": "3.8.7"
  },
  "orig_nbformat": 4
 },
 "nbformat": 4,
 "nbformat_minor": 2
}
