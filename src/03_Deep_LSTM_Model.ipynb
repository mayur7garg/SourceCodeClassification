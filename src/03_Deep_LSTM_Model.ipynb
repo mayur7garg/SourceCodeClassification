{
 "cells": [
  {
   "cell_type": "code",
   "execution_count": 1,
   "metadata": {},
   "outputs": [],
   "source": [
    "import json\n",
    "\n",
    "import numpy as np\n",
    "import pandas as pd\n",
    "from sklearn.preprocessing import LabelEncoder\n",
    "from sklearn.model_selection import train_test_split\n",
    "\n",
    "import tensorflow as tf\n",
    "from tensorflow.data import Dataset, AUTOTUNE\n",
    "from tensorflow.keras.layers import TextVectorization, Dense, LeakyReLU, Bidirectional, LSTM, Dropout, Embedding\n",
    "from tensorflow.keras.optimizers import Adam\n",
    "from tensorboard.plugins import projector"
   ]
  },
  {
   "cell_type": "code",
   "execution_count": 2,
   "metadata": {},
   "outputs": [
    {
     "data": {
      "text/plain": [
       "[PhysicalDevice(name='/physical_device:GPU:0', device_type='GPU')]"
      ]
     },
     "execution_count": 2,
     "metadata": {},
     "output_type": "execute_result"
    }
   ],
   "source": [
    "with open(\"configs.json\", \"r\") as config_file:\n",
    "    configs = json.load(config_file)\n",
    "\n",
    "RANDOM_STATE = configs[\"RANDOM_STATE\"]\n",
    "model_configs = configs['MODELS']['DEEP_LSTM']\n",
    "\n",
    "tf.config.list_physical_devices('GPU')"
   ]
  },
  {
   "cell_type": "code",
   "execution_count": 3,
   "metadata": {},
   "outputs": [
    {
     "data": {
      "text/html": [
       "<div>\n",
       "<style scoped>\n",
       "    .dataframe tbody tr th:only-of-type {\n",
       "        vertical-align: middle;\n",
       "    }\n",
       "\n",
       "    .dataframe tbody tr th {\n",
       "        vertical-align: top;\n",
       "    }\n",
       "\n",
       "    .dataframe thead th {\n",
       "        text-align: right;\n",
       "    }\n",
       "</style>\n",
       "<table border=\"1\" class=\"dataframe\">\n",
       "  <thead>\n",
       "    <tr style=\"text-align: right;\">\n",
       "      <th></th>\n",
       "      <th>sample_path</th>\n",
       "      <th>content</th>\n",
       "      <th>extension</th>\n",
       "      <th>content_len</th>\n",
       "      <th>Ratio space</th>\n",
       "      <th>Ratio NL</th>\n",
       "      <th>Ratio tab</th>\n",
       "      <th>Ratio _</th>\n",
       "      <th>Ratio #</th>\n",
       "      <th>Ratio :</th>\n",
       "      <th>...</th>\n",
       "      <th>Ratio |</th>\n",
       "      <th>Ratio &amp;&amp;</th>\n",
       "      <th>Ratio ||</th>\n",
       "      <th>Ratio ^</th>\n",
       "      <th>Ratio (</th>\n",
       "      <th>Ratio )</th>\n",
       "      <th>Ratio {</th>\n",
       "      <th>Ratio }</th>\n",
       "      <th>Ratio [</th>\n",
       "      <th>Ratio ]</th>\n",
       "    </tr>\n",
       "  </thead>\n",
       "  <tbody>\n",
       "    <tr>\n",
       "      <th>374212</th>\n",
       "      <td>db/seeds/company/layouts/news.layout.html</td>\n",
       "      <td>&lt;html&gt;\\r\\n&lt;head&gt;\\r\\n  &lt;meta name=\"viewport\" co...</td>\n",
       "      <td>html</td>\n",
       "      <td>920</td>\n",
       "      <td>0.153261</td>\n",
       "      <td>0.035870</td>\n",
       "      <td>0.000000</td>\n",
       "      <td>0.001087</td>\n",
       "      <td>0.001087</td>\n",
       "      <td>0.000000</td>\n",
       "      <td>...</td>\n",
       "      <td>0.000000</td>\n",
       "      <td>0.0</td>\n",
       "      <td>0.0</td>\n",
       "      <td>0.0</td>\n",
       "      <td>0.000000</td>\n",
       "      <td>0.000000</td>\n",
       "      <td>0.014130</td>\n",
       "      <td>0.014130</td>\n",
       "      <td>0.002174</td>\n",
       "      <td>0.002174</td>\n",
       "    </tr>\n",
       "    <tr>\n",
       "      <th>177476</th>\n",
       "      <td>src/main/scala/L/mapbox/mapbox.scala</td>\n",
       "      <td>package io.github.bbarker.L.mapbox\\n\\nimport s...</td>\n",
       "      <td>scala</td>\n",
       "      <td>1389</td>\n",
       "      <td>0.202304</td>\n",
       "      <td>0.044636</td>\n",
       "      <td>0.000000</td>\n",
       "      <td>0.001440</td>\n",
       "      <td>0.000000</td>\n",
       "      <td>0.018719</td>\n",
       "      <td>...</td>\n",
       "      <td>0.000720</td>\n",
       "      <td>0.0</td>\n",
       "      <td>0.0</td>\n",
       "      <td>0.0</td>\n",
       "      <td>0.009359</td>\n",
       "      <td>0.009359</td>\n",
       "      <td>0.002160</td>\n",
       "      <td>0.002160</td>\n",
       "      <td>0.000720</td>\n",
       "      <td>0.000720</td>\n",
       "    </tr>\n",
       "    <tr>\n",
       "      <th>348951</th>\n",
       "      <td>src/Network/Receive/kRO/RagexeRE_2010_03_09a.pm</td>\n",
       "      <td>##############################################...</td>\n",
       "      <td>pm</td>\n",
       "      <td>4096</td>\n",
       "      <td>0.102295</td>\n",
       "      <td>0.036377</td>\n",
       "      <td>0.034424</td>\n",
       "      <td>0.012695</td>\n",
       "      <td>0.040771</td>\n",
       "      <td>0.008545</td>\n",
       "      <td>...</td>\n",
       "      <td>0.000000</td>\n",
       "      <td>0.0</td>\n",
       "      <td>0.0</td>\n",
       "      <td>0.0</td>\n",
       "      <td>0.010254</td>\n",
       "      <td>0.010254</td>\n",
       "      <td>0.012451</td>\n",
       "      <td>0.012451</td>\n",
       "      <td>0.002197</td>\n",
       "      <td>0.002197</td>\n",
       "    </tr>\n",
       "    <tr>\n",
       "      <th>24451</th>\n",
       "      <td>valentia.Tests/Functions/Helper/ScheduledTask/...</td>\n",
       "      <td>﻿$here = Split-Path -Parent $MyInvocation.MyCo...</td>\n",
       "      <td>ps1</td>\n",
       "      <td>4096</td>\n",
       "      <td>0.215576</td>\n",
       "      <td>0.023193</td>\n",
       "      <td>0.000000</td>\n",
       "      <td>0.000000</td>\n",
       "      <td>0.000000</td>\n",
       "      <td>0.000488</td>\n",
       "      <td>...</td>\n",
       "      <td>0.002686</td>\n",
       "      <td>0.0</td>\n",
       "      <td>0.0</td>\n",
       "      <td>0.0</td>\n",
       "      <td>0.000732</td>\n",
       "      <td>0.000732</td>\n",
       "      <td>0.004395</td>\n",
       "      <td>0.003662</td>\n",
       "      <td>0.000244</td>\n",
       "      <td>0.000244</td>\n",
       "    </tr>\n",
       "    <tr>\n",
       "      <th>331046</th>\n",
       "      <td>config/endercore/endercore.cfg</td>\n",
       "      <td># Configuration file\\n\\nenchants {\\n    # Allo...</td>\n",
       "      <td>cfg</td>\n",
       "      <td>2698</td>\n",
       "      <td>0.237954</td>\n",
       "      <td>0.040030</td>\n",
       "      <td>0.000000</td>\n",
       "      <td>0.000000</td>\n",
       "      <td>0.021127</td>\n",
       "      <td>0.017791</td>\n",
       "      <td>...</td>\n",
       "      <td>0.000000</td>\n",
       "      <td>0.0</td>\n",
       "      <td>0.0</td>\n",
       "      <td>0.0</td>\n",
       "      <td>0.001112</td>\n",
       "      <td>0.001112</td>\n",
       "      <td>0.001112</td>\n",
       "      <td>0.001112</td>\n",
       "      <td>0.006672</td>\n",
       "      <td>0.006672</td>\n",
       "    </tr>\n",
       "    <tr>\n",
       "      <th>317212</th>\n",
       "      <td>csharp/ICT/Testing/lib/MFinance/SampleData/Bud...</td>\n",
       "      <td>\"Cost Centre\",\"Account\",\"Budget Type\",\"Year\",\"...</td>\n",
       "      <td>csv</td>\n",
       "      <td>778</td>\n",
       "      <td>0.003856</td>\n",
       "      <td>0.007712</td>\n",
       "      <td>0.000000</td>\n",
       "      <td>0.000000</td>\n",
       "      <td>0.000000</td>\n",
       "      <td>0.000000</td>\n",
       "      <td>...</td>\n",
       "      <td>0.000000</td>\n",
       "      <td>0.0</td>\n",
       "      <td>0.0</td>\n",
       "      <td>0.0</td>\n",
       "      <td>0.000000</td>\n",
       "      <td>0.000000</td>\n",
       "      <td>0.000000</td>\n",
       "      <td>0.000000</td>\n",
       "      <td>0.025707</td>\n",
       "      <td>0.025707</td>\n",
       "    </tr>\n",
       "    <tr>\n",
       "      <th>283039</th>\n",
       "      <td>plugins/syntaxhighlighter/localization/_syntax...</td>\n",
       "      <td># Copyright (C) 2014 SyntaxHighlighter Evolved...</td>\n",
       "      <td>po</td>\n",
       "      <td>4096</td>\n",
       "      <td>0.076172</td>\n",
       "      <td>0.042480</td>\n",
       "      <td>0.000000</td>\n",
       "      <td>0.000000</td>\n",
       "      <td>0.009766</td>\n",
       "      <td>0.024170</td>\n",
       "      <td>...</td>\n",
       "      <td>0.000000</td>\n",
       "      <td>0.0</td>\n",
       "      <td>0.0</td>\n",
       "      <td>0.0</td>\n",
       "      <td>0.000977</td>\n",
       "      <td>0.000977</td>\n",
       "      <td>0.000000</td>\n",
       "      <td>0.000000</td>\n",
       "      <td>0.000244</td>\n",
       "      <td>0.000244</td>\n",
       "    </tr>\n",
       "    <tr>\n",
       "      <th>143100</th>\n",
       "      <td>hl7x/gen/vendor/2.4/SQR_S25.xsd</td>\n",
       "      <td>&lt;?xml version =\"1.0\" encoding=\"UTF-8\"?&gt;\\n&lt;!--\\...</td>\n",
       "      <td>xsd</td>\n",
       "      <td>4096</td>\n",
       "      <td>0.166992</td>\n",
       "      <td>0.020264</td>\n",
       "      <td>0.000977</td>\n",
       "      <td>0.010742</td>\n",
       "      <td>0.000000</td>\n",
       "      <td>0.020264</td>\n",
       "      <td>...</td>\n",
       "      <td>0.000000</td>\n",
       "      <td>0.0</td>\n",
       "      <td>0.0</td>\n",
       "      <td>0.0</td>\n",
       "      <td>0.000000</td>\n",
       "      <td>0.000000</td>\n",
       "      <td>0.000000</td>\n",
       "      <td>0.000000</td>\n",
       "      <td>0.000000</td>\n",
       "      <td>0.000000</td>\n",
       "    </tr>\n",
       "    <tr>\n",
       "      <th>272801</th>\n",
       "      <td>public/admin/_tpl/posts-loop.tpl</td>\n",
       "      <td>{if $jobs}\\n\\n&lt;div class=\"list\"&gt;\\n\\n{foreach i...</td>\n",
       "      <td>tpl</td>\n",
       "      <td>2705</td>\n",
       "      <td>0.042144</td>\n",
       "      <td>0.014787</td>\n",
       "      <td>0.027357</td>\n",
       "      <td>0.018484</td>\n",
       "      <td>0.000000</td>\n",
       "      <td>0.001848</td>\n",
       "      <td>...</td>\n",
       "      <td>0.000000</td>\n",
       "      <td>0.0</td>\n",
       "      <td>0.0</td>\n",
       "      <td>0.0</td>\n",
       "      <td>0.003697</td>\n",
       "      <td>0.003697</td>\n",
       "      <td>0.024030</td>\n",
       "      <td>0.024030</td>\n",
       "      <td>0.002218</td>\n",
       "      <td>0.002218</td>\n",
       "    </tr>\n",
       "    <tr>\n",
       "      <th>174398</th>\n",
       "      <td>source/blog/2013-07-17-migrating-to-ios-7.mark...</td>\n",
       "      <td>---\\ntitle: \"Migrating to iOS 7\"\\ndate: 2013-0...</td>\n",
       "      <td>markdown</td>\n",
       "      <td>632</td>\n",
       "      <td>0.134494</td>\n",
       "      <td>0.018987</td>\n",
       "      <td>0.000000</td>\n",
       "      <td>0.000000</td>\n",
       "      <td>0.000000</td>\n",
       "      <td>0.007911</td>\n",
       "      <td>...</td>\n",
       "      <td>0.000000</td>\n",
       "      <td>0.0</td>\n",
       "      <td>0.0</td>\n",
       "      <td>0.0</td>\n",
       "      <td>0.003165</td>\n",
       "      <td>0.003165</td>\n",
       "      <td>0.000000</td>\n",
       "      <td>0.000000</td>\n",
       "      <td>0.003165</td>\n",
       "      <td>0.003165</td>\n",
       "    </tr>\n",
       "  </tbody>\n",
       "</table>\n",
       "<p>10 rows × 61 columns</p>\n",
       "</div>"
      ],
      "text/plain": [
       "                                              sample_path  \\\n",
       "374212          db/seeds/company/layouts/news.layout.html   \n",
       "177476               src/main/scala/L/mapbox/mapbox.scala   \n",
       "348951    src/Network/Receive/kRO/RagexeRE_2010_03_09a.pm   \n",
       "24451   valentia.Tests/Functions/Helper/ScheduledTask/...   \n",
       "331046                     config/endercore/endercore.cfg   \n",
       "317212  csharp/ICT/Testing/lib/MFinance/SampleData/Bud...   \n",
       "283039  plugins/syntaxhighlighter/localization/_syntax...   \n",
       "143100                    hl7x/gen/vendor/2.4/SQR_S25.xsd   \n",
       "272801                   public/admin/_tpl/posts-loop.tpl   \n",
       "174398  source/blog/2013-07-17-migrating-to-ios-7.mark...   \n",
       "\n",
       "                                                  content extension  \\\n",
       "374212  <html>\\r\\n<head>\\r\\n  <meta name=\"viewport\" co...      html   \n",
       "177476  package io.github.bbarker.L.mapbox\\n\\nimport s...     scala   \n",
       "348951  ##############################################...        pm   \n",
       "24451   ﻿$here = Split-Path -Parent $MyInvocation.MyCo...       ps1   \n",
       "331046  # Configuration file\\n\\nenchants {\\n    # Allo...       cfg   \n",
       "317212  \"Cost Centre\",\"Account\",\"Budget Type\",\"Year\",\"...       csv   \n",
       "283039  # Copyright (C) 2014 SyntaxHighlighter Evolved...        po   \n",
       "143100  <?xml version =\"1.0\" encoding=\"UTF-8\"?>\\n<!--\\...       xsd   \n",
       "272801  {if $jobs}\\n\\n<div class=\"list\">\\n\\n{foreach i...       tpl   \n",
       "174398  ---\\ntitle: \"Migrating to iOS 7\"\\ndate: 2013-0...  markdown   \n",
       "\n",
       "        content_len  Ratio space  Ratio NL  Ratio tab   Ratio _   Ratio #  \\\n",
       "374212          920     0.153261  0.035870   0.000000  0.001087  0.001087   \n",
       "177476         1389     0.202304  0.044636   0.000000  0.001440  0.000000   \n",
       "348951         4096     0.102295  0.036377   0.034424  0.012695  0.040771   \n",
       "24451          4096     0.215576  0.023193   0.000000  0.000000  0.000000   \n",
       "331046         2698     0.237954  0.040030   0.000000  0.000000  0.021127   \n",
       "317212          778     0.003856  0.007712   0.000000  0.000000  0.000000   \n",
       "283039         4096     0.076172  0.042480   0.000000  0.000000  0.009766   \n",
       "143100         4096     0.166992  0.020264   0.000977  0.010742  0.000000   \n",
       "272801         2705     0.042144  0.014787   0.027357  0.018484  0.000000   \n",
       "174398          632     0.134494  0.018987   0.000000  0.000000  0.000000   \n",
       "\n",
       "         Ratio :  ...   Ratio |  Ratio &&  Ratio ||  Ratio ^   Ratio (  \\\n",
       "374212  0.000000  ...  0.000000       0.0       0.0      0.0  0.000000   \n",
       "177476  0.018719  ...  0.000720       0.0       0.0      0.0  0.009359   \n",
       "348951  0.008545  ...  0.000000       0.0       0.0      0.0  0.010254   \n",
       "24451   0.000488  ...  0.002686       0.0       0.0      0.0  0.000732   \n",
       "331046  0.017791  ...  0.000000       0.0       0.0      0.0  0.001112   \n",
       "317212  0.000000  ...  0.000000       0.0       0.0      0.0  0.000000   \n",
       "283039  0.024170  ...  0.000000       0.0       0.0      0.0  0.000977   \n",
       "143100  0.020264  ...  0.000000       0.0       0.0      0.0  0.000000   \n",
       "272801  0.001848  ...  0.000000       0.0       0.0      0.0  0.003697   \n",
       "174398  0.007911  ...  0.000000       0.0       0.0      0.0  0.003165   \n",
       "\n",
       "         Ratio )   Ratio {   Ratio }   Ratio [   Ratio ]  \n",
       "374212  0.000000  0.014130  0.014130  0.002174  0.002174  \n",
       "177476  0.009359  0.002160  0.002160  0.000720  0.000720  \n",
       "348951  0.010254  0.012451  0.012451  0.002197  0.002197  \n",
       "24451   0.000732  0.004395  0.003662  0.000244  0.000244  \n",
       "331046  0.001112  0.001112  0.001112  0.006672  0.006672  \n",
       "317212  0.000000  0.000000  0.000000  0.025707  0.025707  \n",
       "283039  0.000977  0.000000  0.000000  0.000244  0.000244  \n",
       "143100  0.000000  0.000000  0.000000  0.000000  0.000000  \n",
       "272801  0.003697  0.024030  0.024030  0.002218  0.002218  \n",
       "174398  0.003165  0.000000  0.000000  0.003165  0.003165  \n",
       "\n",
       "[10 rows x 61 columns]"
      ]
     },
     "execution_count": 3,
     "metadata": {},
     "output_type": "execute_result"
    }
   ],
   "source": [
    "filecontent_df = pd.read_csv(f\"{configs['OUTPUTS_BASE_PATH']}processed_filecontent.csv\")\n",
    "filecontent_df.sample(10)"
   ]
  },
  {
   "cell_type": "code",
   "execution_count": 4,
   "metadata": {},
   "outputs": [
    {
     "data": {
      "text/plain": [
       "((349208, 61), (38801, 61))"
      ]
     },
     "execution_count": 4,
     "metadata": {},
     "output_type": "execute_result"
    }
   ],
   "source": [
    "train_df, val_df = train_test_split(\n",
    "    filecontent_df.copy(), \n",
    "    test_size = configs[\"VAL_SIZE\"], \n",
    "    stratify = filecontent_df[\"extension\"], \n",
    "    random_state = RANDOM_STATE\n",
    ")\n",
    "train_df.shape, val_df.shape"
   ]
  },
  {
   "cell_type": "code",
   "execution_count": 5,
   "metadata": {},
   "outputs": [
    {
     "data": {
      "text/plain": [
       "147"
      ]
     },
     "execution_count": 5,
     "metadata": {},
     "output_type": "execute_result"
    }
   ],
   "source": [
    "label_encoder = LabelEncoder()\n",
    "train_df[\"ext_encoded\"] = label_encoder.fit_transform(train_df[\"extension\"])\n",
    "val_df[\"ext_encoded\"] = label_encoder.transform(val_df[\"extension\"])\n",
    "len(label_encoder.classes_)"
   ]
  },
  {
   "cell_type": "code",
   "execution_count": 6,
   "metadata": {},
   "outputs": [
    {
     "data": {
      "text/plain": [
       "<PrefetchDataset shapes: ((None,), (None,)), types: (tf.string, tf.int32)>"
      ]
     },
     "execution_count": 6,
     "metadata": {},
     "output_type": "execute_result"
    }
   ],
   "source": [
    "train_dataset = Dataset.from_tensor_slices((train_df[\"content\"], train_df[\"ext_encoded\"]))\n",
    "train_dataset = train_dataset.shuffle(model_configs['BUFFER_SIZE']).batch(model_configs['BATCH_SIZE']).prefetch(AUTOTUNE)\n",
    "train_dataset"
   ]
  },
  {
   "cell_type": "code",
   "execution_count": 7,
   "metadata": {},
   "outputs": [
    {
     "data": {
      "text/plain": [
       "<PrefetchDataset shapes: ((None,), (None,)), types: (tf.string, tf.int32)>"
      ]
     },
     "execution_count": 7,
     "metadata": {},
     "output_type": "execute_result"
    }
   ],
   "source": [
    "val_dataset = Dataset.from_tensor_slices((val_df[\"content\"], val_df[\"ext_encoded\"]))\n",
    "val_dataset = val_dataset.shuffle(model_configs['BUFFER_SIZE']).batch(model_configs['BATCH_SIZE']).prefetch(AUTOTUNE)\n",
    "val_dataset"
   ]
  },
  {
   "cell_type": "code",
   "execution_count": 8,
   "metadata": {},
   "outputs": [
    {
     "name": "stdout",
     "output_type": "stream",
     "text": [
      "Text:\n",
      " b'package com.zehfernando.input.binding {\\n\\timport com.zehfernando.signals.SimpleSignal;\\n\\n\\timport flash.display.Stage;\\n\\timport flash.events.Event;\\n\\timport flash.events.GameInputEvent;\\n\\timport flash.events.KeyboardEvent;\\n\\timport flash.system.Capabilities;\\n\\timport flash.ui.GameInput;\\n\\timport flash.ui.GameInputControl;\\n\\timport flash.ui.GameInputDevice;\\n\\timport flash.ui.KeyLocation;\\n\\timport flash.ui.Keyboard;\\n\\timport flash.utils.getTimer;\\n\\t/**\\n\\t * @author zeh fernando\\n\\t */\\n\\tpublic class KeyActionBinder {\\n\\n\\t\\t// Provides universal input control for game controllers and keyboard\\n\\n\\t\\t// More info: https://github.com/zeh/key-action-binder\\n\\n\\t\\t// Constants\\n\\t\\tpublic static const VERSION:String = \"3.10.11\";\\n\\n\\t\\tpublic static const KEYBOARD_DEVICE:GameInputDevice = null;\\t\\t// Set to null by default, since gamepads are non-null (and you can\\'t create/subclass a GameInputDevice)\\n\\n\\t\\tpublic static const GAMEPAD_INDEX_ANY:int = 81653811;\\n\\t\\tpublic static const KEY_CODE_ANY:int = 81653812;\\n\\t\\tpublic static const KEY_LOCATION_ANY:int = 81653813;\\n\\n\\t\\t[Embed(source = \"controllers.json\", mimeType=\\'application/octet-stream\\')]\\n\\t\\tprivate static const JSON_CONTROLLERS:Class;\\n\\n\\t\\t// List of all auto-configurable gamepads\\n\\t\\tprivate static var knownGamepadPlatforms:Vector.<AutoPlatformInfo>;\\n\\n\\t\\tprivate static var stage:Stage;\\n\\n\\t\\t// Properties\\n\\t\\tprivate var _isRunning:Boolean;\\n\\t\\tprivate var _alwaysPreventDefault:Boolean;\\t\\t\\t\\t\\t\\t// If true, prevent action by other keys all the time (e.g. menu key)\\n\\t\\tprivate var _maintainPlayerPositions:Boolean;\\t\\t\\t\\t\\t// Whether it tries to keep player positions or not\\n\\t\\tprivate var _recentDevice:GameInputDevice;\\t\\t\\t\\t\\t\\t// The most recent device that sent an event\\n\\n\\t\\t// Instances\\n\\t\\tprivate var bindings:Vector.<BindingInfo>;\\t\\t\\t\\t\\t\\t// Actual existing bindings, their action, and whether they\\'re activated or not\\n\\t\\tprivate var actionsActivations:Object;\\t\\t\\t\\t\\t\\t\\t// How many activations each action has (key string with ActivationInfo instance)\\n\\n\\t\\tprivate var _onActionActivated:SimpleSignal;\\t\\t\\t\\t\\t// Receives: action:String\\n\\t\\tprivate var _onActionDeactivated:SimpleSignal;\\t\\t\\t\\t\\t// Receives: action:String\\n\\t\\tprivate var _onActionValueChanged:SimpleSignal;\\t\\t\\t\\t\\t// Receives: action:String, value:Number (0-1)\\n\\t\\tprivate var _onDevicesChanged:SimpleSignal;\\t\\t\\t\\t\\t\\t// Receives: (no parameters)\\n\\t\\tprivate var _onRecentDeviceChanged:SimpleSignal;\\t\\t\\t\\t// Receives: recentDevice:GameInputDevice\\n\\n\\t\\tprivate var gameInputDevices:Vector.<GameInputDevice>;\\n\\t\\tprivate var gameInputDeviceIds:Vector.<String>;\\n\\t\\tprivate var gameInputDeviceDefinitions:Vector.<AutoGamepadInfo>;\\n\\n\\t\\tprivate static var gameInput:GameInput;\\n\\n\\t\\t// Properties to avoid allocations\\n\\t\\tprivate var mi:Number;\\t\\t\\t\\t\\t\\t\\t\\t\\t\\t\\t// Used in map()\\n\\n\\n\\t\\t// ================================================================================================================\\n\\t\\t// STATIC CONSTRUCTOR ---------------------------------------------------------------------------------------------\\n\\n\\t\\t/**\\n\\t\\t * Initializes the KeyActionBinder class. This is necessary to allocate global references needed by\\n\\t\\t * KeyActionBinder instances.\\n\\t\\t *\\n\\t\\t * <p>Due to bugs in Flash\\'s GameInput API (especially on OUYA and Android), this initialization should be\\n\\t\\t * done in the first frame of your SWF, preferably in the root class of your movie.</p>\\n\\t\\t *\\n\\t\\t * @param stage\\t\\tFlash\\'s global stage, used for adding event listeners.\\n\\t\\t *\\n\\t\\t * @see #KeyActionBinder()\\n\\t\\t */\\n\\t\\tpublic static function init(__stage:Stage):void  {\\n\\t\\t\\tstage = __stage;\\n\\n//\\t\\t\\tvar ti:int = getTimer();\\n\\n\\t\\t\\tif (GameInput.isSupported) gameInput = new GameInput();\\n\\n\\t\\t\\t// Loads the list of all known gamepads via a more readable/editable initializer\\n\\t\\t\\tvar controllersData:Object = JSON.parse(String(new JSON_CONTROLLERS()).replace(/\\\\/\\\\*.*?\\\\*\\\\//sg, \"\"));\\n\\t\\t\\tvar allPlatforms:Object = controllersData[\"platforms\"];\\n\\n\\t\\t\\t// Parse the platformObj into a proper, faster AutoPlatformInfo list\\n\\t\\t\\tknownGamepadPlatforms = new Vector.<AutoPlatformInfo>();\\n\\n\\t\\t\\tvar platformInfo:AutoPlatformInfo, gamepadInfo:AutoGamepadInfo, controlInfo:AutoGamepadControlInfo, controlKeyInfo:AutoGamepadControlKeyInfo;\\n\\t\\t\\tvar '\n",
      "\n",
      "Label: 6 - as\n",
      "--------------------------------------------------------------------------------------------------------------------------------\n",
      "Text:\n",
      " b'/******************************************************************************\\n *\\n * Freescale Semiconductor Inc.\\n * (c) Copyright 2004-2010 Freescale Semiconductor, Inc.\\n * ALL RIGHTS RESERVED.\\n *\\n **************************************************************************//*!\\n *\\n * @file dfu_mouse.c\\n *\\n * @author\\n *\\n * @version\\n *\\n * @date\\n *\\n * @brief  The file emulates a mouse with buttons\\n *         4 buttons are used on the demo board for the emulation\\n *         PTG0--------- for left click(For JS16 PTG0 is inactive)\\n *         PTG1--------- for right click\\n *         PTG2--------- if macro \"UP_LEFT\" is defined mouse moves \"left\"\\n *                       else mouse moves \"right\"\\n *         PTG3--------- if macro \"UP_LEFT\" is defined mouse moves \"up\"\\n *                       else mouse moves \"down\"\\n *\\n *   NOTE: key pressed  == LOGIC 0\\n *         key released == LOGIC 1\\n *****************************************************************************/\\n\\n/******************************************************************************\\n * Includes\\n *****************************************************************************/\\n#include \"hidef.h\"            /* for EnableInterrupts macro */\\n#include \"derivative.h\"       /* include peripheral declarations */\\n#include \"types.h\"            /* User Defined Data Types */\\n#include \"usb_hid.h\"          /* USB HID Class Header File */\\n#include \"dfu_mouse.h\"        /* Mouse Application Header File */\\n#include \"usb_dfu.h\"          /* USB DFU Class Header File */\\n#include \"RealTimerCounter.h\" /* RTC header file */\\n#include  \"stdio.h\"\\n#if (defined _MCF51MM256_H) || (defined _MCF51JE256_H)\\n#include \"exceptions.h\"\\n#endif\\n#if (defined MCU_mcf51jf128)\\n#include \"flash_FTFL.h\"\\n#endif\\n/* skip the inclusion in dependency state */\\n#ifndef __NO_SETJMP\\n#include <stdio.h>\\n#endif\\n#include <stdlib.h>\\n#include <string.h>\\n\\n/*****************************************************************************\\n * Constant and Macro\\'s - None\\n *****************************************************************************/\\n\\n/*****************************************************************************\\n * Global Functions Prototypes\\n *****************************************************************************/\\nvoid TestApp_Init(void);\\nvoid TestApp_Task(void);\\n/****************************************************************************\\n * Global Variables - None\\n ****************************************************************************/\\nuint_8 usb_device_state;  /* Device state */\\nboolean Flag_Manifest;    /* Flag to check manifest phase complete or not */\\nTIMER_OBJECT dfu_timeout;\\n/*****************************************************************************\\n * Local Types - None\\n *****************************************************************************/\\n\\n/*****************************************************************************\\n * Local Functions Prototypes\\n *****************************************************************************/\\nstatic void USB_App_HID_Callback\\n(\\n    uint_8 controller_ID,\\n    uint_8 event_type,\\n    void* val\\n);\\nstatic void USB_App_DFU_Callback\\n(\\n    uint_8 controller_ID,\\n    uint_8 event_type,\\n    void* val\\n);\\nstatic uint_8 USB_App_Param_Callback\\n(\\n    uint_8 request,\\n    uint_16 value,\\n    uint_8_ptr* data,\\n    USB_PACKET_SIZE* size\\n);\\nstatic void Emulate_Mouse_WithButton(void);\\nstatic void USB_App_Process_Detach_TimeOut(void);\\n/*****************************************************************************\\n * Local Variables\\n *****************************************************************************/\\nstatic boolean mouse_init=FALSE;            /* Application Init Flag */\\nstatic uint_8 rpt_buf[MOUSE_BUFF_SIZE];     /* Mouse Event Report Buffer\\n                                               Key press */\\nstatic uint_8 null_buf[MOUSE_BUFF_SIZE];    /* Mouse Event Report Buffer\\n                                               Key Release */\\nstatic uint_8 g_app_request_params[2];      /* for get/set idle and protocol\\n                                               requests*/\\n/**********'\n",
      "\n",
      "Label: 10 - c\n",
      "--------------------------------------------------------------------------------------------------------------------------------\n",
      "Text:\n",
      " b'% Generated by roxygen2: do not edit by hand\\n% Please edit documentation in R/data.R\\n\\\\name{get.commit}\\n\\\\alias{get.commit}\\n\\\\title{get a commit}\\n\\\\usage{\\nget.commit(owner, repo, sha, ctx = get.github.context())\\n}\\n\\\\arguments{\\n\\\\item{owner}{the repo owner}\\n\\n\\\\item{repo}{the name of the repo}\\n\\n\\\\item{sha}{the SHA of the blob}\\n\\n\\\\item{ctx}{the github context object}\\n}\\n\\\\value{\\nthe commit\\n}\\n\\\\description{\\nget a commit\\n}\\n\\n'\n",
      "\n",
      "Label: 3 - Rd\n",
      "--------------------------------------------------------------------------------------------------------------------------------\n"
     ]
    }
   ],
   "source": [
    "for examples in train_dataset.take(1):\n",
    "    texts = examples[0][:3]\n",
    "    labels = examples[1][:3]\n",
    "\n",
    "    for text, label in zip(texts, labels):\n",
    "        print('Text:\\n', text.numpy())\n",
    "        print(f'\\nLabel: {label.numpy()} - {label_encoder.classes_[label.numpy()]}')\n",
    "        print(\"-\" * 128)"
   ]
  },
  {
   "cell_type": "code",
   "execution_count": 9,
   "metadata": {},
   "outputs": [
    {
     "name": "stdout",
     "output_type": "stream",
     "text": [
      "WARNING:tensorflow:AutoGraph could not transform <function <lambda> at 0x0000027B83E148B0> and will run it as-is.\n",
      "Cause: could not parse the source code of <function <lambda> at 0x0000027B83E148B0>: no matching AST found among candidates:\n",
      "\n",
      "To silence this warning, decorate the function with @tf.autograph.experimental.do_not_convert\n",
      "WARNING: AutoGraph could not transform <function <lambda> at 0x0000027B83E148B0> and will run it as-is.\n",
      "Cause: could not parse the source code of <function <lambda> at 0x0000027B83E148B0>: no matching AST found among candidates:\n",
      "\n",
      "To silence this warning, decorate the function with @tf.autograph.experimental.do_not_convert\n",
      "Wall time: 5min 7s\n"
     ]
    },
    {
     "data": {
      "text/plain": [
       "5000"
      ]
     },
     "execution_count": 9,
     "metadata": {},
     "output_type": "execute_result"
    }
   ],
   "source": [
    "%%time\n",
    "\n",
    "@tf.keras.utils.register_keras_serializable()\n",
    "def unicode_split(text):\n",
    "    return tf.strings.unicode_split(text, 'UTF-8')\n",
    "\n",
    "encoder = TextVectorization(\n",
    "    standardize = None,\n",
    "    max_tokens = model_configs['VOCAB_SIZE'],\n",
    "    ngrams = model_configs['N_GRAMS'],\n",
    "    split = unicode_split,\n",
    "    output_sequence_length = model_configs['SEQ_LEN'],\n",
    "    pad_to_max_tokens = True\n",
    ")\n",
    "encoder.adapt(train_dataset.map(lambda text, label: text))\n",
    "\n",
    "len(encoder.get_vocabulary())"
   ]
  },
  {
   "cell_type": "code",
   "execution_count": 10,
   "metadata": {},
   "outputs": [
    {
     "data": {
      "text/plain": [
       "['',\n",
       " '[UNK]',\n",
       " ' ',\n",
       " '   ',\n",
       " 'e',\n",
       " 't',\n",
       " 'i',\n",
       " 'o',\n",
       " 'r',\n",
       " 'a',\n",
       " 'n',\n",
       " 's',\n",
       " '\\n',\n",
       " 'l',\n",
       " 'c',\n",
       " 'd',\n",
       " 'p',\n",
       " 'u',\n",
       " 'm',\n",
       " '\"',\n",
       " '.',\n",
       " '-',\n",
       " 'h',\n",
       " '\\n  ',\n",
       " 'f']"
      ]
     },
     "execution_count": 10,
     "metadata": {},
     "output_type": "execute_result"
    }
   ],
   "source": [
    "encoder.get_vocabulary()[:25]"
   ]
  },
  {
   "cell_type": "code",
   "execution_count": 11,
   "metadata": {},
   "outputs": [
    {
     "data": {
      "text/plain": [
       "array([[   6,   24,    2,    4,   13,   11,    4,  226,  183,  217,  146,\n",
       "         325,   71,    0,    0,    0,    0,    0,    0,    0],\n",
       "       [  45,   48,   76,   48,   46,   44,    2,   55,  473, 1217,  617,\n",
       "         729,  800,  491,  172,    0,    0,    0,    0,    0]],\n",
       "      dtype=int64)"
      ]
     },
     "execution_count": 11,
     "metadata": {},
     "output_type": "execute_result"
    }
   ],
   "source": [
    "texts = [\"if else\", \"SELECT *\"]\n",
    "encoder(texts).numpy()[:, :20]"
   ]
  },
  {
   "cell_type": "code",
   "execution_count": 12,
   "metadata": {},
   "outputs": [
    {
     "data": {
      "text/plain": [
       "array([['i', 'f', ' ', 'e', 'l', 's', 'e', 'i f', 'f  ', '  e', 'e l',\n",
       "        'l s', 's e', '', '', '', '', '', '', ''],\n",
       "       ['S', 'E', 'L', 'E', 'C', 'T', ' ', '*', 'S E', 'E L', 'L E',\n",
       "        'E C', 'C T', 'T  ', '  *', '', '', '', '', '']], dtype='<U5')"
      ]
     },
     "execution_count": 12,
     "metadata": {},
     "output_type": "execute_result"
    }
   ],
   "source": [
    "np.array(encoder.get_vocabulary())[encoder(texts).numpy()[:, :20]]"
   ]
  },
  {
   "cell_type": "code",
   "execution_count": 13,
   "metadata": {},
   "outputs": [
    {
     "name": "stdout",
     "output_type": "stream",
     "text": [
      "Model: \"sequential\"\n",
      "_________________________________________________________________\n",
      " Layer (type)                Output Shape              Param #   \n",
      "=================================================================\n",
      " text_vectorization (TextVec  (None, 4096)             0         \n",
      " torization)                                                     \n",
      "                                                                 \n",
      " embedding (Embedding)       (None, 4096, 32)          160000    \n",
      "                                                                 \n",
      " bidirectional (Bidirectiona  (None, 4096, 256)        164864    \n",
      " l)                                                              \n",
      "                                                                 \n",
      " bidirectional_1 (Bidirectio  (None, 4096, 256)        394240    \n",
      " nal)                                                            \n",
      "                                                                 \n",
      " bidirectional_2 (Bidirectio  (None, 256)              394240    \n",
      " nal)                                                            \n",
      "                                                                 \n",
      " dropout (Dropout)           (None, 256)               0         \n",
      "                                                                 \n",
      " dense (Dense)               (None, 512)               131584    \n",
      "                                                                 \n",
      " dropout_1 (Dropout)         (None, 512)               0         \n",
      "                                                                 \n",
      " dense_1 (Dense)             (None, 256)               131328    \n",
      "                                                                 \n",
      " dropout_2 (Dropout)         (None, 256)               0         \n",
      "                                                                 \n",
      " dense_2 (Dense)             (None, 256)               65792     \n",
      "                                                                 \n",
      " dense_3 (Dense)             (None, 147)               37779     \n",
      "                                                                 \n",
      "=================================================================\n",
      "Total params: 1,479,827\n",
      "Trainable params: 1,479,827\n",
      "Non-trainable params: 0\n",
      "_________________________________________________________________\n"
     ]
    }
   ],
   "source": [
    "model = tf.keras.Sequential([\n",
    "    encoder,\n",
    "    Embedding(\n",
    "        input_dim = len(encoder.get_vocabulary()),\n",
    "        output_dim = 32\n",
    "        ),\n",
    "    Bidirectional(LSTM(128,  return_sequences = True)),\n",
    "    Bidirectional(LSTM(128,  return_sequences = True)),\n",
    "    Bidirectional(LSTM(128)),\n",
    "    Dropout(0.1),\n",
    "    Dense(512, activation = LeakyReLU()),\n",
    "    Dropout(0.1),\n",
    "    Dense(256, activation = LeakyReLU()),\n",
    "    Dropout(0.1),\n",
    "    Dense(256, activation = LeakyReLU()),\n",
    "    Dense(len(label_encoder.classes_), activation = \"softmax\")\n",
    "])\n",
    "\n",
    "model.compile(\n",
    "    optimizer = Adam(model_configs[\"LEARNING_RATE\"]),\n",
    "    loss = 'sparse_categorical_crossentropy',\n",
    "    metrics = ['sparse_categorical_accuracy']\n",
    ")\n",
    "\n",
    "model.summary()"
   ]
  },
  {
   "cell_type": "code",
   "execution_count": 14,
   "metadata": {},
   "outputs": [],
   "source": [
    "del filecontent_df"
   ]
  },
  {
   "cell_type": "code",
   "execution_count": 15,
   "metadata": {},
   "outputs": [
    {
     "name": "stdout",
     "output_type": "stream",
     "text": [
      "Epoch 1/15\n",
      "2000/2000 [==============================] - 2745s 1s/step - loss: 3.4389 - sparse_categorical_accuracy: 0.2056 - val_loss: 2.7003 - val_sparse_categorical_accuracy: 0.3325\n",
      "Epoch 2/15\n",
      "2000/2000 [==============================] - 2933s 1s/step - loss: 2.4103 - sparse_categorical_accuracy: 0.3945 - val_loss: 2.1308 - val_sparse_categorical_accuracy: 0.4694\n",
      "Epoch 3/15\n",
      "2000/2000 [==============================] - 2936s 1s/step - loss: 2.0059 - sparse_categorical_accuracy: 0.4889 - val_loss: 1.8328 - val_sparse_categorical_accuracy: 0.5169\n",
      "Epoch 4/15\n",
      "2000/2000 [==============================] - 2905s 1s/step - loss: 1.7813 - sparse_categorical_accuracy: 0.5368 - val_loss: 1.6754 - val_sparse_categorical_accuracy: 0.5700\n",
      "Epoch 5/15\n",
      "2000/2000 [==============================] - 2830s 1s/step - loss: 1.6366 - sparse_categorical_accuracy: 0.5738 - val_loss: 1.5004 - val_sparse_categorical_accuracy: 0.6075\n",
      "Epoch 6/15\n",
      "2000/2000 [==============================] - 2804s 1s/step - loss: 1.5314 - sparse_categorical_accuracy: 0.6014 - val_loss: 1.3845 - val_sparse_categorical_accuracy: 0.6263\n",
      "Epoch 7/15\n",
      "2000/2000 [==============================] - 2795s 1s/step - loss: 1.4247 - sparse_categorical_accuracy: 0.6248 - val_loss: 1.2951 - val_sparse_categorical_accuracy: 0.6556\n",
      "Epoch 8/15\n",
      "2000/2000 [==============================] - 2760s 1s/step - loss: 1.3562 - sparse_categorical_accuracy: 0.6398 - val_loss: 1.3282 - val_sparse_categorical_accuracy: 0.6300\n",
      "Epoch 9/15\n",
      "2000/2000 [==============================] - 2788s 1s/step - loss: 1.2482 - sparse_categorical_accuracy: 0.6597 - val_loss: 1.1990 - val_sparse_categorical_accuracy: 0.6862\n",
      "Epoch 10/15\n",
      "2000/2000 [==============================] - 2760s 1s/step - loss: 1.1281 - sparse_categorical_accuracy: 0.6933 - val_loss: 1.0535 - val_sparse_categorical_accuracy: 0.7000\n",
      "Epoch 11/15\n",
      "1826/2000 [==========================>...] - ETA: 3:56 - loss: 1.0833 - sparse_categorical_accuracy: 0.7024WARNING:tensorflow:Your input ran out of data; interrupting training. Make sure that your dataset or generator can generate at least `steps_per_epoch * epochs` batches (in this case, 30000 batches). You may need to use the repeat() function when building your dataset.\n",
      "2000/2000 [==============================] - 2548s 1s/step - loss: 1.0833 - sparse_categorical_accuracy: 0.7024 - val_loss: 0.9949 - val_sparse_categorical_accuracy: 0.7219\n",
      "Wall time: 8h 33min 24s\n"
     ]
    }
   ],
   "source": [
    "%%time\n",
    "\n",
    "history = model.fit(\n",
    "    train_dataset, \n",
    "    validation_data = val_dataset, \n",
    "    epochs = model_configs[\"EPOCHS\"], \n",
    "    steps_per_epoch = model_configs[\"TRAINING_STEPS\"], \n",
    "    validation_steps = model_configs[\"VALIDATION_STEPS\"]\n",
    ")"
   ]
  },
  {
   "cell_type": "code",
   "execution_count": 16,
   "metadata": {},
   "outputs": [
    {
     "name": "stdout",
     "output_type": "stream",
     "text": [
      "2426/2426 [==============================] - 1576s 650ms/step - loss: 0.9892 - sparse_categorical_accuracy: 0.7250\n",
      "Validation Loss: 0.989\n",
      "Validation Accuracy: 0.725\n"
     ]
    }
   ],
   "source": [
    "loss, accuracy = model.evaluate(val_dataset)\n",
    "print(f\"Validation Loss: {round(loss, 3)}\")\n",
    "print(f\"Validation Accuracy: {round(accuracy, 3)}\")"
   ]
  },
  {
   "cell_type": "code",
   "execution_count": 17,
   "metadata": {},
   "outputs": [
    {
     "name": "stderr",
     "output_type": "stream",
     "text": [
      "WARNING:absl:Found untraced functions such as leaky_re_lu_layer_call_fn, leaky_re_lu_layer_call_and_return_conditional_losses, leaky_re_lu_1_layer_call_fn, leaky_re_lu_1_layer_call_and_return_conditional_losses, leaky_re_lu_2_layer_call_fn while saving (showing 5 of 45). These functions will not be directly callable after loading.\n"
     ]
    },
    {
     "name": "stdout",
     "output_type": "stream",
     "text": [
      "INFO:tensorflow:Assets written to: ../models/Deep_LSTM\\assets\n"
     ]
    },
    {
     "name": "stderr",
     "output_type": "stream",
     "text": [
      "INFO:tensorflow:Assets written to: ../models/Deep_LSTM\\assets\n",
      "WARNING:absl:<keras.layers.recurrent.LSTMCell object at 0x0000027D192A7040> has the same name 'LSTMCell' as a built-in Keras object. Consider renaming <class 'keras.layers.recurrent.LSTMCell'> to avoid naming conflicts when loading with `tf.keras.models.load_model`. If renaming is not possible, pass the object in the `custom_objects` parameter of the load function.\n",
      "WARNING:absl:<keras.layers.recurrent.LSTMCell object at 0x0000027D1709F880> has the same name 'LSTMCell' as a built-in Keras object. Consider renaming <class 'keras.layers.recurrent.LSTMCell'> to avoid naming conflicts when loading with `tf.keras.models.load_model`. If renaming is not possible, pass the object in the `custom_objects` parameter of the load function.\n",
      "WARNING:absl:<keras.layers.recurrent.LSTMCell object at 0x0000027C27213250> has the same name 'LSTMCell' as a built-in Keras object. Consider renaming <class 'keras.layers.recurrent.LSTMCell'> to avoid naming conflicts when loading with `tf.keras.models.load_model`. If renaming is not possible, pass the object in the `custom_objects` parameter of the load function.\n",
      "WARNING:absl:<keras.layers.recurrent.LSTMCell object at 0x0000027C27212820> has the same name 'LSTMCell' as a built-in Keras object. Consider renaming <class 'keras.layers.recurrent.LSTMCell'> to avoid naming conflicts when loading with `tf.keras.models.load_model`. If renaming is not possible, pass the object in the `custom_objects` parameter of the load function.\n",
      "WARNING:absl:<keras.layers.recurrent.LSTMCell object at 0x0000027C27211100> has the same name 'LSTMCell' as a built-in Keras object. Consider renaming <class 'keras.layers.recurrent.LSTMCell'> to avoid naming conflicts when loading with `tf.keras.models.load_model`. If renaming is not possible, pass the object in the `custom_objects` parameter of the load function.\n",
      "WARNING:absl:<keras.layers.recurrent.LSTMCell object at 0x0000027C2720E730> has the same name 'LSTMCell' as a built-in Keras object. Consider renaming <class 'keras.layers.recurrent.LSTMCell'> to avoid naming conflicts when loading with `tf.keras.models.load_model`. If renaming is not possible, pass the object in the `custom_objects` parameter of the load function.\n"
     ]
    }
   ],
   "source": [
    "model.save(f\"{configs['MODELS_BASE_PATH']}{model_configs['MODEL_NAME']}\")"
   ]
  },
  {
   "cell_type": "code",
   "execution_count": 18,
   "metadata": {},
   "outputs": [],
   "source": [
    "metadata_file_name = \"embedding_metadata.tsv\"\n",
    "metadata_file_path = f\"{configs['MODELS_BASE_PATH']}{model_configs['EMBEDDINGS_FOLDER']}/{metadata_file_name}\"\n",
    "\n",
    "token_names = {\n",
    "    '': \"Empty String\",\n",
    "    '[UNK]': \"Unknown\"\n",
    "}\n",
    "\n",
    "with open(metadata_file_path, 'w', encoding = 'UTF-8') as metadata_file:\n",
    "    metadata_file.write(\"Unicode\\tNGram\\tID\\n\")\n",
    "    for i, v in enumerate(encoder.get_vocabulary()):\n",
    "        token = repr(v) if v not in token_names.keys() else token_names[v]\n",
    "        n_gram = (len(v) // 2) + 1 if i > 1 else 0\n",
    "        metadata_file.write(f\"{token}\\t{n_gram}\\t{i}\\n\")\n",
    "\n",
    "embedding_weights = tf.Variable(model.layers[1].get_weights()[0])\n",
    "checkpoint = tf.train.Checkpoint(embedding = embedding_weights)\n",
    "checkpoint.save(f\"{configs['MODELS_BASE_PATH']}{model_configs['EMBEDDINGS_FOLDER']}/embedding.ckpt\")\n",
    "\n",
    "projector_config = projector.ProjectorConfig()\n",
    "embedding_conf = projector_config.embeddings.add()\n",
    "embedding_conf.tensor_name = \"embedding/.ATTRIBUTES/VARIABLE_VALUE\"\n",
    "embedding_conf.metadata_path = metadata_file_name\n",
    "projector.visualize_embeddings(f\"{configs['MODELS_BASE_PATH']}{model_configs['EMBEDDINGS_FOLDER']}\", projector_config)"
   ]
  },
  {
   "cell_type": "code",
   "execution_count": null,
   "metadata": {},
   "outputs": [],
   "source": []
  }
 ],
 "metadata": {
  "interpreter": {
   "hash": "dcbe076a40d8142e585077643c26fc4a9c0eed423ce3f041c8a5b2e5c8137bb1"
  },
  "kernelspec": {
   "display_name": "Python 3.8.7 64-bit",
   "language": "python",
   "name": "python3"
  },
  "language_info": {
   "codemirror_mode": {
    "name": "ipython",
    "version": 3
   },
   "file_extension": ".py",
   "mimetype": "text/x-python",
   "name": "python",
   "nbconvert_exporter": "python",
   "pygments_lexer": "ipython3",
   "version": "3.8.7"
  },
  "orig_nbformat": 4
 },
 "nbformat": 4,
 "nbformat_minor": 2
}
